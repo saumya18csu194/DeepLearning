{
  "nbformat": 4,
  "nbformat_minor": 0,
  "metadata": {
    "colab": {
      "name": "Exp6.ipynb",
      "provenance": [],
      "collapsed_sections": []
    },
    "kernelspec": {
      "name": "python3",
      "display_name": "Python 3"
    }
  },
  "cells": [
    {
      "cell_type": "code",
      "metadata": {
        "id": "ahfkFfawTzAf"
      },
      "source": [
        "import pandas as pd\n",
        "import numpy as np"
      ],
      "execution_count": null,
      "outputs": []
    },
    {
      "cell_type": "code",
      "metadata": {
        "colab": {
          "resources": {
            "http://localhost:8080/nbextensions/google.colab/files.js": {
              "data": "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",
              "ok": true,
              "headers": [
                [
                  "content-type",
                  "application/javascript"
                ]
              ],
              "status": 200,
              "status_text": ""
            }
          },
          "base_uri": "https://localhost:8080/",
          "height": 73
        },
        "id": "SnDeH4wmT8P7",
        "outputId": "ed49fd46-4fba-45a6-c547-9ecb4febe8a7"
      },
      "source": [
        "from google.colab import files\r\n",
        "uploaded=files.upload()"
      ],
      "execution_count": null,
      "outputs": [
        {
          "output_type": "display_data",
          "data": {
            "text/html": [
              "\n",
              "     <input type=\"file\" id=\"files-c8f6f744-761c-4c06-b3c0-9d8a915e88bb\" name=\"files[]\" multiple disabled\n",
              "        style=\"border:none\" />\n",
              "     <output id=\"result-c8f6f744-761c-4c06-b3c0-9d8a915e88bb\">\n",
              "      Upload widget is only available when the cell has been executed in the\n",
              "      current browser session. Please rerun this cell to enable.\n",
              "      </output>\n",
              "      <script src=\"/nbextensions/google.colab/files.js\"></script> "
            ],
            "text/plain": [
              "<IPython.core.display.HTML object>"
            ]
          },
          "metadata": {
            "tags": []
          }
        },
        {
          "output_type": "stream",
          "text": [
            "Saving cancer_classification.csv to cancer_classification.csv\n"
          ],
          "name": "stdout"
        }
      ]
    },
    {
      "cell_type": "code",
      "metadata": {
        "id": "INcIs0oUTzAi"
      },
      "source": [
        "df = pd.read_csv('cancer_classification.csv')"
      ],
      "execution_count": null,
      "outputs": []
    },
    {
      "cell_type": "code",
      "metadata": {
        "colab": {
          "base_uri": "https://localhost:8080/"
        },
        "id": "w7DYBr8HTzAj",
        "outputId": "e469a958-700d-4b76-f262-c8d265317668"
      },
      "source": [
        "df.info()"
      ],
      "execution_count": null,
      "outputs": [
        {
          "output_type": "stream",
          "text": [
            "<class 'pandas.core.frame.DataFrame'>\n",
            "RangeIndex: 569 entries, 0 to 568\n",
            "Data columns (total 31 columns):\n",
            " #   Column                   Non-Null Count  Dtype  \n",
            "---  ------                   --------------  -----  \n",
            " 0   mean radius              569 non-null    float64\n",
            " 1   mean texture             569 non-null    float64\n",
            " 2   mean perimeter           569 non-null    float64\n",
            " 3   mean area                569 non-null    float64\n",
            " 4   mean smoothness          569 non-null    float64\n",
            " 5   mean compactness         569 non-null    float64\n",
            " 6   mean concavity           569 non-null    float64\n",
            " 7   mean concave points      569 non-null    float64\n",
            " 8   mean symmetry            569 non-null    float64\n",
            " 9   mean fractal dimension   569 non-null    float64\n",
            " 10  radius error             569 non-null    float64\n",
            " 11  texture error            569 non-null    float64\n",
            " 12  perimeter error          569 non-null    float64\n",
            " 13  area error               569 non-null    float64\n",
            " 14  smoothness error         569 non-null    float64\n",
            " 15  compactness error        569 non-null    float64\n",
            " 16  concavity error          569 non-null    float64\n",
            " 17  concave points error     569 non-null    float64\n",
            " 18  symmetry error           569 non-null    float64\n",
            " 19  fractal dimension error  569 non-null    float64\n",
            " 20  worst radius             569 non-null    float64\n",
            " 21  worst texture            569 non-null    float64\n",
            " 22  worst perimeter          569 non-null    float64\n",
            " 23  worst area               569 non-null    float64\n",
            " 24  worst smoothness         569 non-null    float64\n",
            " 25  worst compactness        569 non-null    float64\n",
            " 26  worst concavity          569 non-null    float64\n",
            " 27  worst concave points     569 non-null    float64\n",
            " 28  worst symmetry           569 non-null    float64\n",
            " 29  worst fractal dimension  569 non-null    float64\n",
            " 30  benign_0__mal_1          569 non-null    int64  \n",
            "dtypes: float64(30), int64(1)\n",
            "memory usage: 137.9 KB\n"
          ],
          "name": "stdout"
        }
      ]
    },
    {
      "cell_type": "code",
      "metadata": {
        "colab": {
          "base_uri": "https://localhost:8080/",
          "height": 956
        },
        "id": "JQuG37LDTzAk",
        "outputId": "89c739ee-1dd5-4c54-cb53-10dcf1838003"
      },
      "source": [
        "df.describe().transpose()"
      ],
      "execution_count": null,
      "outputs": [
        {
          "output_type": "execute_result",
          "data": {
            "text/html": [
              "<div>\n",
              "<style scoped>\n",
              "    .dataframe tbody tr th:only-of-type {\n",
              "        vertical-align: middle;\n",
              "    }\n",
              "\n",
              "    .dataframe tbody tr th {\n",
              "        vertical-align: top;\n",
              "    }\n",
              "\n",
              "    .dataframe thead th {\n",
              "        text-align: right;\n",
              "    }\n",
              "</style>\n",
              "<table border=\"1\" class=\"dataframe\">\n",
              "  <thead>\n",
              "    <tr style=\"text-align: right;\">\n",
              "      <th></th>\n",
              "      <th>count</th>\n",
              "      <th>mean</th>\n",
              "      <th>std</th>\n",
              "      <th>min</th>\n",
              "      <th>25%</th>\n",
              "      <th>50%</th>\n",
              "      <th>75%</th>\n",
              "      <th>max</th>\n",
              "    </tr>\n",
              "  </thead>\n",
              "  <tbody>\n",
              "    <tr>\n",
              "      <th>mean radius</th>\n",
              "      <td>569.0</td>\n",
              "      <td>14.127292</td>\n",
              "      <td>3.524049</td>\n",
              "      <td>6.981000</td>\n",
              "      <td>11.700000</td>\n",
              "      <td>13.370000</td>\n",
              "      <td>15.780000</td>\n",
              "      <td>28.11000</td>\n",
              "    </tr>\n",
              "    <tr>\n",
              "      <th>mean texture</th>\n",
              "      <td>569.0</td>\n",
              "      <td>19.289649</td>\n",
              "      <td>4.301036</td>\n",
              "      <td>9.710000</td>\n",
              "      <td>16.170000</td>\n",
              "      <td>18.840000</td>\n",
              "      <td>21.800000</td>\n",
              "      <td>39.28000</td>\n",
              "    </tr>\n",
              "    <tr>\n",
              "      <th>mean perimeter</th>\n",
              "      <td>569.0</td>\n",
              "      <td>91.969033</td>\n",
              "      <td>24.298981</td>\n",
              "      <td>43.790000</td>\n",
              "      <td>75.170000</td>\n",
              "      <td>86.240000</td>\n",
              "      <td>104.100000</td>\n",
              "      <td>188.50000</td>\n",
              "    </tr>\n",
              "    <tr>\n",
              "      <th>mean area</th>\n",
              "      <td>569.0</td>\n",
              "      <td>654.889104</td>\n",
              "      <td>351.914129</td>\n",
              "      <td>143.500000</td>\n",
              "      <td>420.300000</td>\n",
              "      <td>551.100000</td>\n",
              "      <td>782.700000</td>\n",
              "      <td>2501.00000</td>\n",
              "    </tr>\n",
              "    <tr>\n",
              "      <th>mean smoothness</th>\n",
              "      <td>569.0</td>\n",
              "      <td>0.096360</td>\n",
              "      <td>0.014064</td>\n",
              "      <td>0.052630</td>\n",
              "      <td>0.086370</td>\n",
              "      <td>0.095870</td>\n",
              "      <td>0.105300</td>\n",
              "      <td>0.16340</td>\n",
              "    </tr>\n",
              "    <tr>\n",
              "      <th>mean compactness</th>\n",
              "      <td>569.0</td>\n",
              "      <td>0.104341</td>\n",
              "      <td>0.052813</td>\n",
              "      <td>0.019380</td>\n",
              "      <td>0.064920</td>\n",
              "      <td>0.092630</td>\n",
              "      <td>0.130400</td>\n",
              "      <td>0.34540</td>\n",
              "    </tr>\n",
              "    <tr>\n",
              "      <th>mean concavity</th>\n",
              "      <td>569.0</td>\n",
              "      <td>0.088799</td>\n",
              "      <td>0.079720</td>\n",
              "      <td>0.000000</td>\n",
              "      <td>0.029560</td>\n",
              "      <td>0.061540</td>\n",
              "      <td>0.130700</td>\n",
              "      <td>0.42680</td>\n",
              "    </tr>\n",
              "    <tr>\n",
              "      <th>mean concave points</th>\n",
              "      <td>569.0</td>\n",
              "      <td>0.048919</td>\n",
              "      <td>0.038803</td>\n",
              "      <td>0.000000</td>\n",
              "      <td>0.020310</td>\n",
              "      <td>0.033500</td>\n",
              "      <td>0.074000</td>\n",
              "      <td>0.20120</td>\n",
              "    </tr>\n",
              "    <tr>\n",
              "      <th>mean symmetry</th>\n",
              "      <td>569.0</td>\n",
              "      <td>0.181162</td>\n",
              "      <td>0.027414</td>\n",
              "      <td>0.106000</td>\n",
              "      <td>0.161900</td>\n",
              "      <td>0.179200</td>\n",
              "      <td>0.195700</td>\n",
              "      <td>0.30400</td>\n",
              "    </tr>\n",
              "    <tr>\n",
              "      <th>mean fractal dimension</th>\n",
              "      <td>569.0</td>\n",
              "      <td>0.062798</td>\n",
              "      <td>0.007060</td>\n",
              "      <td>0.049960</td>\n",
              "      <td>0.057700</td>\n",
              "      <td>0.061540</td>\n",
              "      <td>0.066120</td>\n",
              "      <td>0.09744</td>\n",
              "    </tr>\n",
              "    <tr>\n",
              "      <th>radius error</th>\n",
              "      <td>569.0</td>\n",
              "      <td>0.405172</td>\n",
              "      <td>0.277313</td>\n",
              "      <td>0.111500</td>\n",
              "      <td>0.232400</td>\n",
              "      <td>0.324200</td>\n",
              "      <td>0.478900</td>\n",
              "      <td>2.87300</td>\n",
              "    </tr>\n",
              "    <tr>\n",
              "      <th>texture error</th>\n",
              "      <td>569.0</td>\n",
              "      <td>1.216853</td>\n",
              "      <td>0.551648</td>\n",
              "      <td>0.360200</td>\n",
              "      <td>0.833900</td>\n",
              "      <td>1.108000</td>\n",
              "      <td>1.474000</td>\n",
              "      <td>4.88500</td>\n",
              "    </tr>\n",
              "    <tr>\n",
              "      <th>perimeter error</th>\n",
              "      <td>569.0</td>\n",
              "      <td>2.866059</td>\n",
              "      <td>2.021855</td>\n",
              "      <td>0.757000</td>\n",
              "      <td>1.606000</td>\n",
              "      <td>2.287000</td>\n",
              "      <td>3.357000</td>\n",
              "      <td>21.98000</td>\n",
              "    </tr>\n",
              "    <tr>\n",
              "      <th>area error</th>\n",
              "      <td>569.0</td>\n",
              "      <td>40.337079</td>\n",
              "      <td>45.491006</td>\n",
              "      <td>6.802000</td>\n",
              "      <td>17.850000</td>\n",
              "      <td>24.530000</td>\n",
              "      <td>45.190000</td>\n",
              "      <td>542.20000</td>\n",
              "    </tr>\n",
              "    <tr>\n",
              "      <th>smoothness error</th>\n",
              "      <td>569.0</td>\n",
              "      <td>0.007041</td>\n",
              "      <td>0.003003</td>\n",
              "      <td>0.001713</td>\n",
              "      <td>0.005169</td>\n",
              "      <td>0.006380</td>\n",
              "      <td>0.008146</td>\n",
              "      <td>0.03113</td>\n",
              "    </tr>\n",
              "    <tr>\n",
              "      <th>compactness error</th>\n",
              "      <td>569.0</td>\n",
              "      <td>0.025478</td>\n",
              "      <td>0.017908</td>\n",
              "      <td>0.002252</td>\n",
              "      <td>0.013080</td>\n",
              "      <td>0.020450</td>\n",
              "      <td>0.032450</td>\n",
              "      <td>0.13540</td>\n",
              "    </tr>\n",
              "    <tr>\n",
              "      <th>concavity error</th>\n",
              "      <td>569.0</td>\n",
              "      <td>0.031894</td>\n",
              "      <td>0.030186</td>\n",
              "      <td>0.000000</td>\n",
              "      <td>0.015090</td>\n",
              "      <td>0.025890</td>\n",
              "      <td>0.042050</td>\n",
              "      <td>0.39600</td>\n",
              "    </tr>\n",
              "    <tr>\n",
              "      <th>concave points error</th>\n",
              "      <td>569.0</td>\n",
              "      <td>0.011796</td>\n",
              "      <td>0.006170</td>\n",
              "      <td>0.000000</td>\n",
              "      <td>0.007638</td>\n",
              "      <td>0.010930</td>\n",
              "      <td>0.014710</td>\n",
              "      <td>0.05279</td>\n",
              "    </tr>\n",
              "    <tr>\n",
              "      <th>symmetry error</th>\n",
              "      <td>569.0</td>\n",
              "      <td>0.020542</td>\n",
              "      <td>0.008266</td>\n",
              "      <td>0.007882</td>\n",
              "      <td>0.015160</td>\n",
              "      <td>0.018730</td>\n",
              "      <td>0.023480</td>\n",
              "      <td>0.07895</td>\n",
              "    </tr>\n",
              "    <tr>\n",
              "      <th>fractal dimension error</th>\n",
              "      <td>569.0</td>\n",
              "      <td>0.003795</td>\n",
              "      <td>0.002646</td>\n",
              "      <td>0.000895</td>\n",
              "      <td>0.002248</td>\n",
              "      <td>0.003187</td>\n",
              "      <td>0.004558</td>\n",
              "      <td>0.02984</td>\n",
              "    </tr>\n",
              "    <tr>\n",
              "      <th>worst radius</th>\n",
              "      <td>569.0</td>\n",
              "      <td>16.269190</td>\n",
              "      <td>4.833242</td>\n",
              "      <td>7.930000</td>\n",
              "      <td>13.010000</td>\n",
              "      <td>14.970000</td>\n",
              "      <td>18.790000</td>\n",
              "      <td>36.04000</td>\n",
              "    </tr>\n",
              "    <tr>\n",
              "      <th>worst texture</th>\n",
              "      <td>569.0</td>\n",
              "      <td>25.677223</td>\n",
              "      <td>6.146258</td>\n",
              "      <td>12.020000</td>\n",
              "      <td>21.080000</td>\n",
              "      <td>25.410000</td>\n",
              "      <td>29.720000</td>\n",
              "      <td>49.54000</td>\n",
              "    </tr>\n",
              "    <tr>\n",
              "      <th>worst perimeter</th>\n",
              "      <td>569.0</td>\n",
              "      <td>107.261213</td>\n",
              "      <td>33.602542</td>\n",
              "      <td>50.410000</td>\n",
              "      <td>84.110000</td>\n",
              "      <td>97.660000</td>\n",
              "      <td>125.400000</td>\n",
              "      <td>251.20000</td>\n",
              "    </tr>\n",
              "    <tr>\n",
              "      <th>worst area</th>\n",
              "      <td>569.0</td>\n",
              "      <td>880.583128</td>\n",
              "      <td>569.356993</td>\n",
              "      <td>185.200000</td>\n",
              "      <td>515.300000</td>\n",
              "      <td>686.500000</td>\n",
              "      <td>1084.000000</td>\n",
              "      <td>4254.00000</td>\n",
              "    </tr>\n",
              "    <tr>\n",
              "      <th>worst smoothness</th>\n",
              "      <td>569.0</td>\n",
              "      <td>0.132369</td>\n",
              "      <td>0.022832</td>\n",
              "      <td>0.071170</td>\n",
              "      <td>0.116600</td>\n",
              "      <td>0.131300</td>\n",
              "      <td>0.146000</td>\n",
              "      <td>0.22260</td>\n",
              "    </tr>\n",
              "    <tr>\n",
              "      <th>worst compactness</th>\n",
              "      <td>569.0</td>\n",
              "      <td>0.254265</td>\n",
              "      <td>0.157336</td>\n",
              "      <td>0.027290</td>\n",
              "      <td>0.147200</td>\n",
              "      <td>0.211900</td>\n",
              "      <td>0.339100</td>\n",
              "      <td>1.05800</td>\n",
              "    </tr>\n",
              "    <tr>\n",
              "      <th>worst concavity</th>\n",
              "      <td>569.0</td>\n",
              "      <td>0.272188</td>\n",
              "      <td>0.208624</td>\n",
              "      <td>0.000000</td>\n",
              "      <td>0.114500</td>\n",
              "      <td>0.226700</td>\n",
              "      <td>0.382900</td>\n",
              "      <td>1.25200</td>\n",
              "    </tr>\n",
              "    <tr>\n",
              "      <th>worst concave points</th>\n",
              "      <td>569.0</td>\n",
              "      <td>0.114606</td>\n",
              "      <td>0.065732</td>\n",
              "      <td>0.000000</td>\n",
              "      <td>0.064930</td>\n",
              "      <td>0.099930</td>\n",
              "      <td>0.161400</td>\n",
              "      <td>0.29100</td>\n",
              "    </tr>\n",
              "    <tr>\n",
              "      <th>worst symmetry</th>\n",
              "      <td>569.0</td>\n",
              "      <td>0.290076</td>\n",
              "      <td>0.061867</td>\n",
              "      <td>0.156500</td>\n",
              "      <td>0.250400</td>\n",
              "      <td>0.282200</td>\n",
              "      <td>0.317900</td>\n",
              "      <td>0.66380</td>\n",
              "    </tr>\n",
              "    <tr>\n",
              "      <th>worst fractal dimension</th>\n",
              "      <td>569.0</td>\n",
              "      <td>0.083946</td>\n",
              "      <td>0.018061</td>\n",
              "      <td>0.055040</td>\n",
              "      <td>0.071460</td>\n",
              "      <td>0.080040</td>\n",
              "      <td>0.092080</td>\n",
              "      <td>0.20750</td>\n",
              "    </tr>\n",
              "    <tr>\n",
              "      <th>benign_0__mal_1</th>\n",
              "      <td>569.0</td>\n",
              "      <td>0.627417</td>\n",
              "      <td>0.483918</td>\n",
              "      <td>0.000000</td>\n",
              "      <td>0.000000</td>\n",
              "      <td>1.000000</td>\n",
              "      <td>1.000000</td>\n",
              "      <td>1.00000</td>\n",
              "    </tr>\n",
              "  </tbody>\n",
              "</table>\n",
              "</div>"
            ],
            "text/plain": [
              "                         count        mean  ...          75%         max\n",
              "mean radius              569.0   14.127292  ...    15.780000    28.11000\n",
              "mean texture             569.0   19.289649  ...    21.800000    39.28000\n",
              "mean perimeter           569.0   91.969033  ...   104.100000   188.50000\n",
              "mean area                569.0  654.889104  ...   782.700000  2501.00000\n",
              "mean smoothness          569.0    0.096360  ...     0.105300     0.16340\n",
              "mean compactness         569.0    0.104341  ...     0.130400     0.34540\n",
              "mean concavity           569.0    0.088799  ...     0.130700     0.42680\n",
              "mean concave points      569.0    0.048919  ...     0.074000     0.20120\n",
              "mean symmetry            569.0    0.181162  ...     0.195700     0.30400\n",
              "mean fractal dimension   569.0    0.062798  ...     0.066120     0.09744\n",
              "radius error             569.0    0.405172  ...     0.478900     2.87300\n",
              "texture error            569.0    1.216853  ...     1.474000     4.88500\n",
              "perimeter error          569.0    2.866059  ...     3.357000    21.98000\n",
              "area error               569.0   40.337079  ...    45.190000   542.20000\n",
              "smoothness error         569.0    0.007041  ...     0.008146     0.03113\n",
              "compactness error        569.0    0.025478  ...     0.032450     0.13540\n",
              "concavity error          569.0    0.031894  ...     0.042050     0.39600\n",
              "concave points error     569.0    0.011796  ...     0.014710     0.05279\n",
              "symmetry error           569.0    0.020542  ...     0.023480     0.07895\n",
              "fractal dimension error  569.0    0.003795  ...     0.004558     0.02984\n",
              "worst radius             569.0   16.269190  ...    18.790000    36.04000\n",
              "worst texture            569.0   25.677223  ...    29.720000    49.54000\n",
              "worst perimeter          569.0  107.261213  ...   125.400000   251.20000\n",
              "worst area               569.0  880.583128  ...  1084.000000  4254.00000\n",
              "worst smoothness         569.0    0.132369  ...     0.146000     0.22260\n",
              "worst compactness        569.0    0.254265  ...     0.339100     1.05800\n",
              "worst concavity          569.0    0.272188  ...     0.382900     1.25200\n",
              "worst concave points     569.0    0.114606  ...     0.161400     0.29100\n",
              "worst symmetry           569.0    0.290076  ...     0.317900     0.66380\n",
              "worst fractal dimension  569.0    0.083946  ...     0.092080     0.20750\n",
              "benign_0__mal_1          569.0    0.627417  ...     1.000000     1.00000\n",
              "\n",
              "[31 rows x 8 columns]"
            ]
          },
          "metadata": {
            "tags": []
          },
          "execution_count": 5
        }
      ]
    },
    {
      "cell_type": "markdown",
      "metadata": {
        "id": "SMCAoQJlTzAl"
      },
      "source": [
        "## EDA"
      ]
    },
    {
      "cell_type": "code",
      "metadata": {
        "id": "uY3aOX2aTzAm"
      },
      "source": [
        "import seaborn as sns\n",
        "import matplotlib.pyplot as plt"
      ],
      "execution_count": null,
      "outputs": []
    },
    {
      "cell_type": "code",
      "metadata": {
        "colab": {
          "base_uri": "https://localhost:8080/",
          "height": 298
        },
        "id": "dv_KZNEeTzAm",
        "outputId": "beecef59-4bd1-4507-9c0e-82debf7a745e"
      },
      "source": [
        "sns.countplot(x='benign_0__mal_1',data=df)"
      ],
      "execution_count": null,
      "outputs": [
        {
          "output_type": "execute_result",
          "data": {
            "text/plain": [
              "<matplotlib.axes._subplots.AxesSubplot at 0x7f7dd17609d0>"
            ]
          },
          "metadata": {
            "tags": []
          },
          "execution_count": 7
        },
        {
          "output_type": "display_data",
          "data": {
            "image/png": "[encoded data removed]",
            "text/plain": [
              "<Figure size 432x288 with 1 Axes>"
            ]
          },
          "metadata": {
            "tags": [],
            "needs_background": "light"
          }
        }
      ]
    },
    {
      "cell_type": "code",
      "metadata": {
        "colab": {
          "base_uri": "https://localhost:8080/",
          "height": 369
        },
        "id": "LdlBa84iTzAn",
        "outputId": "21142b10-8475-4664-f28f-2cf01ea37c73"
      },
      "source": [
        "sns.heatmap(df.corr())"
      ],
      "execution_count": null,
      "outputs": [
        {
          "output_type": "execute_result",
          "data": {
            "text/plain": [
              "<matplotlib.axes._subplots.AxesSubplot at 0x7f7dd16b2fd0>"
            ]
          },
          "metadata": {
            "tags": []
          },
          "execution_count": 8
        },
        {
          "output_type": "display_data",
          "data": {
            "image/png": "[encoded data removed]",
            "text/plain": [
              "<Figure size 432x288 with 2 Axes>"
            ]
          },
          "metadata": {
            "tags": [],
            "needs_background": "light"
          }
        }
      ]
    },
    {
      "cell_type": "code",
      "metadata": {
        "colab": {
          "base_uri": "https://localhost:8080/"
        },
        "id": "LqzWR9tHTzAo",
        "outputId": "03c6021b-ff69-47d5-ed57-dba4f43d3524"
      },
      "source": [
        "df.corr()['benign_0__mal_1'].sort_values()"
      ],
      "execution_count": null,
      "outputs": [
        {
          "output_type": "execute_result",
          "data": {
            "text/plain": [
              "worst concave points      -0.793566\n",
              "worst perimeter           -0.782914\n",
              "mean concave points       -0.776614\n",
              "worst radius              -0.776454\n",
              "mean perimeter            -0.742636\n",
              "worst area                -0.733825\n",
              "mean radius               -0.730029\n",
              "mean area                 -0.708984\n",
              "mean concavity            -0.696360\n",
              "worst concavity           -0.659610\n",
              "mean compactness          -0.596534\n",
              "worst compactness         -0.590998\n",
              "radius error              -0.567134\n",
              "perimeter error           -0.556141\n",
              "area error                -0.548236\n",
              "worst texture             -0.456903\n",
              "worst smoothness          -0.421465\n",
              "worst symmetry            -0.416294\n",
              "mean texture              -0.415185\n",
              "concave points error      -0.408042\n",
              "mean smoothness           -0.358560\n",
              "mean symmetry             -0.330499\n",
              "worst fractal dimension   -0.323872\n",
              "compactness error         -0.292999\n",
              "concavity error           -0.253730\n",
              "fractal dimension error   -0.077972\n",
              "symmetry error             0.006522\n",
              "texture error              0.008303\n",
              "mean fractal dimension     0.012838\n",
              "smoothness error           0.067016\n",
              "benign_0__mal_1            1.000000\n",
              "Name: benign_0__mal_1, dtype: float64"
            ]
          },
          "metadata": {
            "tags": []
          },
          "execution_count": 9
        }
      ]
    },
    {
      "cell_type": "code",
      "metadata": {
        "colab": {
          "base_uri": "https://localhost:8080/",
          "height": 392
        },
        "id": "l4f6-6u7TzAp",
        "outputId": "d8dc18af-959a-43e9-a646-9990a94c9f01"
      },
      "source": [
        "df.corr()['benign_0__mal_1'].sort_values().plot(kind='bar')"
      ],
      "execution_count": null,
      "outputs": [
        {
          "output_type": "execute_result",
          "data": {
            "text/plain": [
              "<matplotlib.axes._subplots.AxesSubplot at 0x7f7dc88c4dd0>"
            ]
          },
          "metadata": {
            "tags": []
          },
          "execution_count": 10
        },
        {
          "output_type": "display_data",
          "data": {
            "image/png": "[encoded data removed]",
            "text/plain": [
              "<Figure size 432x288 with 1 Axes>"
            ]
          },
          "metadata": {
            "tags": [],
            "needs_background": "light"
          }
        }
      ]
    },
    {
      "cell_type": "code",
      "metadata": {
        "colab": {
          "base_uri": "https://localhost:8080/",
          "height": 392
        },
        "id": "Ym_CDSIfTzAp",
        "outputId": "91e193c1-7c66-40bd-f172-1cb1ffb64788"
      },
      "source": [
        "df.corr()['benign_0__mal_1'][:-1].sort_values().plot(kind='bar')"
      ],
      "execution_count": null,
      "outputs": [
        {
          "output_type": "execute_result",
          "data": {
            "text/plain": [
              "<matplotlib.axes._subplots.AxesSubplot at 0x7f7dc87e6290>"
            ]
          },
          "metadata": {
            "tags": []
          },
          "execution_count": 11
        },
        {
          "output_type": "display_data",
          "data": {
            "image/png": "[encoded data removed]",
            "text/plain": [
              "<Figure size 432x288 with 1 Axes>"
            ]
          },
          "metadata": {
            "tags": [],
            "needs_background": "light"
          }
        }
      ]
    },
    {
      "cell_type": "markdown",
      "metadata": {
        "id": "rqcGr5vgTzAp"
      },
      "source": [
        "## Train Test Split"
      ]
    },
    {
      "cell_type": "code",
      "metadata": {
        "id": "8vvuT3huTzAq"
      },
      "source": [
        "X = df.drop('benign_0__mal_1',axis=1).values\n",
        "y = df['benign_0__mal_1'].values"
      ],
      "execution_count": null,
      "outputs": []
    },
    {
      "cell_type": "code",
      "metadata": {
        "id": "9adc_tA0TzAq"
      },
      "source": [
        "from sklearn.model_selection import train_test_split"
      ],
      "execution_count": null,
      "outputs": []
    },
    {
      "cell_type": "code",
      "metadata": {
        "id": "w3Sr9YqUTzAq"
      },
      "source": [
        "X_train, X_test, y_train, y_test = train_test_split(X,y,test_size=0.25,random_state=101)"
      ],
      "execution_count": null,
      "outputs": []
    },
    {
      "cell_type": "markdown",
      "metadata": {
        "id": "zTnC4d1kTzAq"
      },
      "source": [
        "\n",
        "## Scaling Data"
      ]
    },
    {
      "cell_type": "code",
      "metadata": {
        "id": "GiJYCXpfTzAq"
      },
      "source": [
        "from sklearn.preprocessing import MinMaxScaler"
      ],
      "execution_count": null,
      "outputs": []
    },
    {
      "cell_type": "code",
      "metadata": {
        "id": "cP70AlwSTzAr"
      },
      "source": [
        "scaler = MinMaxScaler()"
      ],
      "execution_count": null,
      "outputs": []
    },
    {
      "cell_type": "code",
      "metadata": {
        "colab": {
          "base_uri": "https://localhost:8080/"
        },
        "id": "YvgVfOvjTzAr",
        "outputId": "d0ebd3b0-ad32-47bc-83df-b450f581aa73"
      },
      "source": [
        "scaler.fit(X_train)"
      ],
      "execution_count": null,
      "outputs": [
        {
          "output_type": "execute_result",
          "data": {
            "text/plain": [
              "MinMaxScaler(copy=True, feature_range=(0, 1))"
            ]
          },
          "metadata": {
            "tags": []
          },
          "execution_count": 17
        }
      ]
    },
    {
      "cell_type": "code",
      "metadata": {
        "id": "twCHrugXTzAr"
      },
      "source": [
        "X_train = scaler.transform(X_train)\n",
        "X_test = scaler.transform(X_test)"
      ],
      "execution_count": null,
      "outputs": []
    },
    {
      "cell_type": "code",
      "metadata": {
        "id": "u-dQP54kTzAs"
      },
      "source": [
        "\n",
        "import tensorflow as tf\n",
        "from tensorflow.keras.models import Sequential\n",
        "from tensorflow.keras.layers import Dense, Activation,Dropout"
      ],
      "execution_count": null,
      "outputs": []
    },
    {
      "cell_type": "code",
      "metadata": {
        "colab": {
          "base_uri": "https://localhost:8080/"
        },
        "id": "WSmmB1geTzAs",
        "outputId": "e1a8b306-6a4e-432b-c262-0aee8767b13a"
      },
      "source": [
        "X_train.shape"
      ],
      "execution_count": null,
      "outputs": [
        {
          "output_type": "execute_result",
          "data": {
            "text/plain": [
              "(426, 30)"
            ]
          },
          "metadata": {
            "tags": []
          },
          "execution_count": 20
        }
      ]
    },
    {
      "cell_type": "markdown",
      "metadata": {
        "id": "6eOD1WAlVZFt"
      },
      "source": [
        "### Using Early Stopping"
      ]
    },
    {
      "cell_type": "code",
      "metadata": {
        "id": "V90nZAqKVUu1"
      },
      "source": [
        "model = Sequential()\r\n",
        "model.add(Dense(units=30,activation='relu'))\r\n",
        "model.add(Dense(units=15,activation='relu'))\r\n",
        "model.add(Dense(units=1,activation='sigmoid'))\r\n",
        "model.compile(loss='binary_crossentropy', optimizer='adam')"
      ],
      "execution_count": null,
      "outputs": []
    },
    {
      "cell_type": "code",
      "metadata": {
        "id": "nFoHVs3cTzAu"
      },
      "source": [
        "from tensorflow.keras.callbacks import EarlyStopping"
      ],
      "execution_count": null,
      "outputs": []
    },
    {
      "cell_type": "code",
      "metadata": {
        "id": "7lsGm3IhTzAu"
      },
      "source": [
        "early_stop = EarlyStopping(monitor='val_loss', mode='min', verbose=1, patience=25)"
      ],
      "execution_count": null,
      "outputs": []
    },
    {
      "cell_type": "code",
      "metadata": {
        "scrolled": true,
        "id": "HSbzmjRiTzAu",
        "colab": {
          "base_uri": "https://localhost:8080/"
        },
        "outputId": "c066f75d-4f7d-4451-a03f-1fe61d442ba5"
      },
      "source": [
        "%%time\n",
        "model.fit(x=X_train, \n",
        "          y=y_train, \n",
        "          epochs=600,\n",
        "          validation_data=(X_test, y_test), verbose=1,\n",
        "          callbacks=[early_stop]\n",
        "          )"
      ],
      "execution_count": null,
      "outputs": [
        {
          "output_type": "stream",
          "text": [
            "Epoch 1/600\n",
            "14/14 [==============================] - 1s 51ms/step - loss: 0.7127 - val_loss: 0.6694\n",
            "Epoch 2/600\n",
            "14/14 [==============================] - 0s 7ms/step - loss: 0.6568 - val_loss: 0.6359\n",
            "Epoch 3/600\n",
            "14/14 [==============================] - 0s 7ms/step - loss: 0.6341 - val_loss: 0.5925\n",
            "Epoch 4/600\n",
            "14/14 [==============================] - 0s 7ms/step - loss: 0.5776 - val_loss: 0.5494\n",
            "Epoch 5/600\n",
            "14/14 [==============================] - 0s 8ms/step - loss: 0.5445 - val_loss: 0.5015\n",
            "Epoch 6/600\n",
            "14/14 [==============================] - 0s 7ms/step - loss: 0.4923 - val_loss: 0.4573\n",
            "Epoch 7/600\n",
            "14/14 [==============================] - 0s 7ms/step - loss: 0.4500 - val_loss: 0.4130\n",
            "Epoch 8/600\n",
            "14/14 [==============================] - 0s 7ms/step - loss: 0.4158 - val_loss: 0.3736\n",
            "Epoch 9/600\n",
            "14/14 [==============================] - 0s 7ms/step - loss: 0.3713 - val_loss: 0.3343\n",
            "Epoch 10/600\n",
            "14/14 [==============================] - 0s 7ms/step - loss: 0.3415 - val_loss: 0.3021\n",
            "Epoch 11/600\n",
            "14/14 [==============================] - 0s 8ms/step - loss: 0.3192 - val_loss: 0.2776\n",
            "Epoch 12/600\n",
            "14/14 [==============================] - 0s 7ms/step - loss: 0.2681 - val_loss: 0.2497\n",
            "Epoch 13/600\n",
            "14/14 [==============================] - 0s 7ms/step - loss: 0.2624 - val_loss: 0.2313\n",
            "Epoch 14/600\n",
            "14/14 [==============================] - 0s 8ms/step - loss: 0.2417 - val_loss: 0.2158\n",
            "Epoch 15/600\n",
            "14/14 [==============================] - 0s 7ms/step - loss: 0.2173 - val_loss: 0.2036\n",
            "Epoch 16/600\n",
            "14/14 [==============================] - 0s 7ms/step - loss: 0.2187 - val_loss: 0.1885\n",
            "Epoch 17/600\n",
            "14/14 [==============================] - 0s 8ms/step - loss: 0.1978 - val_loss: 0.1795\n",
            "Epoch 18/600\n",
            "14/14 [==============================] - 0s 7ms/step - loss: 0.1775 - val_loss: 0.1705\n",
            "Epoch 19/600\n",
            "14/14 [==============================] - 0s 7ms/step - loss: 0.1793 - val_loss: 0.1646\n",
            "Epoch 20/600\n",
            "14/14 [==============================] - 0s 7ms/step - loss: 0.1731 - val_loss: 0.1563\n",
            "Epoch 21/600\n",
            "14/14 [==============================] - 0s 8ms/step - loss: 0.1492 - val_loss: 0.1516\n",
            "Epoch 22/600\n",
            "14/14 [==============================] - 0s 7ms/step - loss: 0.1568 - val_loss: 0.1467\n",
            "Epoch 23/600\n",
            "14/14 [==============================] - 0s 7ms/step - loss: 0.1401 - val_loss: 0.1445\n",
            "Epoch 24/600\n",
            "14/14 [==============================] - 0s 8ms/step - loss: 0.1354 - val_loss: 0.1414\n",
            "Epoch 25/600\n",
            "14/14 [==============================] - 0s 7ms/step - loss: 0.1385 - val_loss: 0.1354\n",
            "Epoch 26/600\n",
            "14/14 [==============================] - 0s 7ms/step - loss: 0.1106 - val_loss: 0.1338\n",
            "Epoch 27/600\n",
            "14/14 [==============================] - 0s 7ms/step - loss: 0.1379 - val_loss: 0.1315\n",
            "Epoch 28/600\n",
            "14/14 [==============================] - 0s 7ms/step - loss: 0.1044 - val_loss: 0.1287\n",
            "Epoch 29/600\n",
            "14/14 [==============================] - 0s 8ms/step - loss: 0.1077 - val_loss: 0.1283\n",
            "Epoch 30/600\n",
            "14/14 [==============================] - 0s 7ms/step - loss: 0.1139 - val_loss: 0.1246\n",
            "Epoch 31/600\n",
            "14/14 [==============================] - 0s 7ms/step - loss: 0.1106 - val_loss: 0.1238\n",
            "Epoch 32/600\n",
            "14/14 [==============================] - 0s 8ms/step - loss: 0.0908 - val_loss: 0.1191\n",
            "Epoch 33/600\n",
            "14/14 [==============================] - 0s 7ms/step - loss: 0.0976 - val_loss: 0.1194\n",
            "Epoch 34/600\n",
            "14/14 [==============================] - 0s 7ms/step - loss: 0.0966 - val_loss: 0.1169\n",
            "Epoch 35/600\n",
            "14/14 [==============================] - 0s 7ms/step - loss: 0.1035 - val_loss: 0.1201\n",
            "Epoch 36/600\n",
            "14/14 [==============================] - 0s 7ms/step - loss: 0.0926 - val_loss: 0.1179\n",
            "Epoch 37/600\n",
            "14/14 [==============================] - 0s 7ms/step - loss: 0.0936 - val_loss: 0.1140\n",
            "Epoch 38/600\n",
            "14/14 [==============================] - 0s 7ms/step - loss: 0.0995 - val_loss: 0.1141\n",
            "Epoch 39/600\n",
            "14/14 [==============================] - 0s 7ms/step - loss: 0.0901 - val_loss: 0.1146\n",
            "Epoch 40/600\n",
            "14/14 [==============================] - 0s 7ms/step - loss: 0.0786 - val_loss: 0.1162\n",
            "Epoch 41/600\n",
            "14/14 [==============================] - 0s 8ms/step - loss: 0.1076 - val_loss: 0.1105\n",
            "Epoch 42/600\n",
            "14/14 [==============================] - 0s 7ms/step - loss: 0.0732 - val_loss: 0.1179\n",
            "Epoch 43/600\n",
            "14/14 [==============================] - 0s 7ms/step - loss: 0.0735 - val_loss: 0.1090\n",
            "Epoch 44/600\n",
            "14/14 [==============================] - 0s 7ms/step - loss: 0.0851 - val_loss: 0.1126\n",
            "Epoch 45/600\n",
            "14/14 [==============================] - 0s 7ms/step - loss: 0.0719 - val_loss: 0.1136\n",
            "Epoch 46/600\n",
            "14/14 [==============================] - 0s 8ms/step - loss: 0.0681 - val_loss: 0.1116\n",
            "Epoch 47/600\n",
            "14/14 [==============================] - 0s 7ms/step - loss: 0.0665 - val_loss: 0.1133\n",
            "Epoch 48/600\n",
            "14/14 [==============================] - 0s 7ms/step - loss: 0.0718 - val_loss: 0.1116\n",
            "Epoch 49/600\n",
            "14/14 [==============================] - 0s 7ms/step - loss: 0.0791 - val_loss: 0.1093\n",
            "Epoch 50/600\n",
            "14/14 [==============================] - 0s 7ms/step - loss: 0.0756 - val_loss: 0.1075\n",
            "Epoch 51/600\n",
            "14/14 [==============================] - 0s 7ms/step - loss: 0.0604 - val_loss: 0.1177\n",
            "Epoch 52/600\n",
            "14/14 [==============================] - 0s 7ms/step - loss: 0.0743 - val_loss: 0.1076\n",
            "Epoch 53/600\n",
            "14/14 [==============================] - 0s 8ms/step - loss: 0.0641 - val_loss: 0.1098\n",
            "Epoch 54/600\n",
            "14/14 [==============================] - 0s 8ms/step - loss: 0.0654 - val_loss: 0.1100\n",
            "Epoch 55/600\n",
            "14/14 [==============================] - 0s 7ms/step - loss: 0.0821 - val_loss: 0.1103\n",
            "Epoch 56/600\n",
            "14/14 [==============================] - 0s 8ms/step - loss: 0.0635 - val_loss: 0.1102\n",
            "Epoch 57/600\n",
            "14/14 [==============================] - 0s 8ms/step - loss: 0.0505 - val_loss: 0.1129\n",
            "Epoch 58/600\n",
            "14/14 [==============================] - 0s 7ms/step - loss: 0.0797 - val_loss: 0.1087\n",
            "Epoch 59/600\n",
            "14/14 [==============================] - 0s 7ms/step - loss: 0.0711 - val_loss: 0.1162\n",
            "Epoch 60/600\n",
            "14/14 [==============================] - 0s 7ms/step - loss: 0.0720 - val_loss: 0.1104\n",
            "Epoch 61/600\n",
            "14/14 [==============================] - 0s 7ms/step - loss: 0.0631 - val_loss: 0.1118\n",
            "Epoch 62/600\n",
            "14/14 [==============================] - 0s 7ms/step - loss: 0.0645 - val_loss: 0.1107\n",
            "Epoch 63/600\n",
            "14/14 [==============================] - 0s 7ms/step - loss: 0.0627 - val_loss: 0.1106\n",
            "Epoch 64/600\n",
            "14/14 [==============================] - 0s 7ms/step - loss: 0.0711 - val_loss: 0.1110\n",
            "Epoch 65/600\n",
            "14/14 [==============================] - 0s 7ms/step - loss: 0.0736 - val_loss: 0.1107\n",
            "Epoch 66/600\n",
            "14/14 [==============================] - 0s 7ms/step - loss: 0.0567 - val_loss: 0.1106\n",
            "Epoch 67/600\n",
            "14/14 [==============================] - 0s 8ms/step - loss: 0.0489 - val_loss: 0.1158\n",
            "Epoch 68/600\n",
            "14/14 [==============================] - 0s 7ms/step - loss: 0.0699 - val_loss: 0.1097\n",
            "Epoch 69/600\n",
            "14/14 [==============================] - 0s 8ms/step - loss: 0.0551 - val_loss: 0.1083\n",
            "Epoch 70/600\n",
            "14/14 [==============================] - 0s 8ms/step - loss: 0.0616 - val_loss: 0.1118\n",
            "Epoch 71/600\n",
            "14/14 [==============================] - 0s 7ms/step - loss: 0.0591 - val_loss: 0.1109\n",
            "Epoch 72/600\n",
            "14/14 [==============================] - 0s 7ms/step - loss: 0.0509 - val_loss: 0.1127\n",
            "Epoch 73/600\n",
            "14/14 [==============================] - 0s 8ms/step - loss: 0.0506 - val_loss: 0.1063\n",
            "Epoch 74/600\n",
            "14/14 [==============================] - 0s 7ms/step - loss: 0.0583 - val_loss: 0.1164\n",
            "Epoch 75/600\n",
            "14/14 [==============================] - 0s 8ms/step - loss: 0.0611 - val_loss: 0.1105\n",
            "Epoch 76/600\n",
            "14/14 [==============================] - 0s 7ms/step - loss: 0.0490 - val_loss: 0.1104\n",
            "Epoch 77/600\n",
            "14/14 [==============================] - 0s 8ms/step - loss: 0.0699 - val_loss: 0.1115\n",
            "Epoch 78/600\n",
            "14/14 [==============================] - 0s 7ms/step - loss: 0.0481 - val_loss: 0.1116\n",
            "Epoch 79/600\n",
            "14/14 [==============================] - 0s 8ms/step - loss: 0.0573 - val_loss: 0.1080\n",
            "Epoch 80/600\n",
            "14/14 [==============================] - 0s 7ms/step - loss: 0.0578 - val_loss: 0.1135\n",
            "Epoch 81/600\n",
            "14/14 [==============================] - 0s 7ms/step - loss: 0.0531 - val_loss: 0.1098\n",
            "Epoch 82/600\n",
            "14/14 [==============================] - 0s 7ms/step - loss: 0.0503 - val_loss: 0.1201\n",
            "Epoch 83/600\n",
            "14/14 [==============================] - 0s 8ms/step - loss: 0.0448 - val_loss: 0.1082\n",
            "Epoch 84/600\n",
            "14/14 [==============================] - 0s 7ms/step - loss: 0.0460 - val_loss: 0.1186\n",
            "Epoch 85/600\n",
            "14/14 [==============================] - 0s 7ms/step - loss: 0.0482 - val_loss: 0.1131\n",
            "Epoch 86/600\n",
            "14/14 [==============================] - 0s 8ms/step - loss: 0.0749 - val_loss: 0.1076\n",
            "Epoch 87/600\n",
            "14/14 [==============================] - 0s 7ms/step - loss: 0.0560 - val_loss: 0.1226\n",
            "Epoch 88/600\n",
            "14/14 [==============================] - 0s 7ms/step - loss: 0.0495 - val_loss: 0.1087\n",
            "Epoch 89/600\n",
            "14/14 [==============================] - 0s 7ms/step - loss: 0.0574 - val_loss: 0.1241\n",
            "Epoch 90/600\n",
            "14/14 [==============================] - 0s 7ms/step - loss: 0.0576 - val_loss: 0.1116\n",
            "Epoch 91/600\n",
            "14/14 [==============================] - 0s 7ms/step - loss: 0.0492 - val_loss: 0.1114\n",
            "Epoch 92/600\n",
            "14/14 [==============================] - 0s 8ms/step - loss: 0.0521 - val_loss: 0.1207\n",
            "Epoch 93/600\n",
            "14/14 [==============================] - 0s 7ms/step - loss: 0.0488 - val_loss: 0.1117\n",
            "Epoch 94/600\n",
            "14/14 [==============================] - 0s 7ms/step - loss: 0.0474 - val_loss: 0.1134\n",
            "Epoch 95/600\n",
            "14/14 [==============================] - 0s 7ms/step - loss: 0.0470 - val_loss: 0.1135\n",
            "Epoch 96/600\n",
            "14/14 [==============================] - 0s 7ms/step - loss: 0.0537 - val_loss: 0.1150\n",
            "Epoch 97/600\n",
            "14/14 [==============================] - 0s 8ms/step - loss: 0.0425 - val_loss: 0.1144\n",
            "Epoch 98/600\n",
            "14/14 [==============================] - 0s 7ms/step - loss: 0.0444 - val_loss: 0.1142\n",
            "Epoch 00098: early stopping\n",
            "CPU times: user 10.9 s, sys: 519 ms, total: 11.4 s\n",
            "Wall time: 11.5 s\n"
          ],
          "name": "stdout"
        },
        {
          "output_type": "execute_result",
          "data": {
            "text/plain": [
              "<tensorflow.python.keras.callbacks.History at 0x7f7d8f82c290>"
            ]
          },
          "metadata": {
            "tags": []
          },
          "execution_count": 24
        }
      ]
    },
    {
      "cell_type": "code",
      "metadata": {
        "id": "maVzxmEBTzAv",
        "colab": {
          "base_uri": "https://localhost:8080/",
          "height": 283
        },
        "outputId": "4507ec40-16db-432e-c43f-966807fa6667"
      },
      "source": [
        "model_loss = pd.DataFrame(model.history.history)\n",
        "model_loss.plot()"
      ],
      "execution_count": null,
      "outputs": [
        {
          "output_type": "execute_result",
          "data": {
            "text/plain": [
              "<matplotlib.axes._subplots.AxesSubplot at 0x7f7d8cf845d0>"
            ]
          },
          "metadata": {
            "tags": []
          },
          "execution_count": 25
        },
        {
          "output_type": "display_data",
          "data": {
            "image/png": "[encoded data removed]",
            "text/plain": [
              "<Figure size 432x288 with 1 Axes>"
            ]
          },
          "metadata": {
            "tags": [],
            "needs_background": "light"
          }
        }
      ]
    },
    {
      "cell_type": "code",
      "metadata": {
        "id": "OLyuDIy6ViHU"
      },
      "source": [
        ""
      ],
      "execution_count": null,
      "outputs": []
    },
    {
      "cell_type": "code",
      "metadata": {
        "id": "dwBIfoAHVk8J"
      },
      "source": [
        "from tensorflow.keras.callbacks import EarlyStopping"
      ],
      "execution_count": null,
      "outputs": []
    },
    {
      "cell_type": "code",
      "metadata": {
        "id": "jwRC_HZQVk8K"
      },
      "source": [
        "early_stop = EarlyStopping(monitor='val_loss', mode='min', verbose=1, patience=25)"
      ],
      "execution_count": null,
      "outputs": []
    },
    {
      "cell_type": "code",
      "metadata": {
        "scrolled": true,
        "id": "UIOq1sVgVk8K",
        "outputId": "81718377-28ab-4710-b3bb-5da393ad5670"
      },
      "source": [
        "%%time\n",
        "model.fit(x=X_train, \n",
        "          y=y_train, \n",
        "          epochs=600,\n",
        "          validation_data=(X_test, y_test), verbose=1,\n",
        "          callbacks=[early_stop]\n",
        "          )"
      ],
      "execution_count": null,
      "outputs": [
        {
          "output_type": "stream",
          "text": [
            "Train on 426 samples, validate on 143 samples\n",
            "Epoch 1/600\n",
            "426/426 [==============================] - 1s 2ms/sample - loss: 0.6714 - val_loss: 0.6505\n",
            "Epoch 2/600\n",
            "426/426 [==============================] - 0s 568us/sample - loss: 0.6339 - val_loss: 0.6144\n",
            "Epoch 3/600\n",
            "426/426 [==============================] - 0s 674us/sample - loss: 0.5972 - val_loss: 0.5743\n",
            "Epoch 4/600\n",
            "426/426 [==============================] - 0s 639us/sample - loss: 0.5545 - val_loss: 0.5289\n",
            "Epoch 5/600\n",
            "426/426 [==============================] - 0s 377us/sample - loss: 0.5071 - val_loss: 0.4766\n",
            "Epoch 6/600\n",
            "426/426 [==============================] - 0s 775us/sample - loss: 0.4549 - val_loss: 0.4240\n",
            "Epoch 7/600\n",
            "426/426 [==============================] - 0s 675us/sample - loss: 0.4048 - val_loss: 0.3700\n",
            "Epoch 8/600\n",
            "426/426 [==============================] - 0s 396us/sample - loss: 0.3578 - val_loss: 0.3240\n",
            "Epoch 9/600\n",
            "426/426 [==============================] - 0s 474us/sample - loss: 0.3178 - val_loss: 0.2866\n",
            "Epoch 10/600\n",
            "426/426 [==============================] - 0s 675us/sample - loss: 0.2841 - val_loss: 0.2524\n",
            "Epoch 11/600\n",
            "426/426 [==============================] - 0s 823us/sample - loss: 0.2569 - val_loss: 0.2303\n",
            "Epoch 12/600\n",
            "426/426 [==============================] - 0s 736us/sample - loss: 0.2343 - val_loss: 0.2083\n",
            "Epoch 13/600\n",
            "426/426 [==============================] - 0s 617us/sample - loss: 0.2178 - val_loss: 0.1907\n",
            "Epoch 14/600\n",
            "426/426 [==============================] - 0s 530us/sample - loss: 0.2012 - val_loss: 0.1820\n",
            "Epoch 15/600\n",
            "426/426 [==============================] - 0s 642us/sample - loss: 0.1909 - val_loss: 0.1690\n",
            "Epoch 16/600\n",
            "426/426 [==============================] - 0s 582us/sample - loss: 0.1766 - val_loss: 0.1615\n",
            "Epoch 17/600\n",
            "426/426 [==============================] - 0s 459us/sample - loss: 0.1663 - val_loss: 0.1520\n",
            "Epoch 18/600\n",
            "426/426 [==============================] - 0s 981us/sample - loss: 0.1573 - val_loss: 0.1481\n",
            "Epoch 19/600\n",
            "426/426 [==============================] - 0s 519us/sample - loss: 0.1502 - val_loss: 0.1413\n",
            "Epoch 20/600\n",
            "426/426 [==============================] - 0s 575us/sample - loss: 0.1422 - val_loss: 0.1391\n",
            "Epoch 21/600\n",
            "426/426 [==============================] - 0s 716us/sample - loss: 0.1370 - val_loss: 0.1300\n",
            "Epoch 22/600\n",
            "426/426 [==============================] - 0s 680us/sample - loss: 0.1312 - val_loss: 0.1277\n",
            "Epoch 23/600\n",
            "426/426 [==============================] - 0s 341us/sample - loss: 0.1231 - val_loss: 0.1261\n",
            "Epoch 24/600\n",
            "426/426 [==============================] - 0s 639us/sample - loss: 0.1186 - val_loss: 0.1202\n",
            "Epoch 25/600\n",
            "426/426 [==============================] - 0s 543us/sample - loss: 0.1132 - val_loss: 0.1183\n",
            "Epoch 26/600\n",
            "426/426 [==============================] - 0s 494us/sample - loss: 0.1087 - val_loss: 0.1159\n",
            "Epoch 27/600\n",
            "426/426 [==============================] - 0s 407us/sample - loss: 0.1053 - val_loss: 0.1162\n",
            "Epoch 28/600\n",
            "426/426 [==============================] - 0s 595us/sample - loss: 0.1005 - val_loss: 0.1124\n",
            "Epoch 29/600\n",
            "426/426 [==============================] - 0s 511us/sample - loss: 0.0972 - val_loss: 0.1136\n",
            "Epoch 30/600\n",
            "426/426 [==============================] - 0s 526us/sample - loss: 0.0941 - val_loss: 0.1096\n",
            "Epoch 31/600\n",
            "426/426 [==============================] - 0s 533us/sample - loss: 0.0910 - val_loss: 0.1106\n",
            "Epoch 32/600\n",
            "426/426 [==============================] - 0s 525us/sample - loss: 0.0905 - val_loss: 0.1076\n",
            "Epoch 33/600\n",
            "426/426 [==============================] - 0s 722us/sample - loss: 0.0894 - val_loss: 0.1068\n",
            "Epoch 34/600\n",
            "426/426 [==============================] - 0s 799us/sample - loss: 0.0840 - val_loss: 0.1069\n",
            "Epoch 35/600\n",
            "426/426 [==============================] - 0s 417us/sample - loss: 0.0805 - val_loss: 0.1064\n",
            "Epoch 36/600\n",
            "426/426 [==============================] - 0s 451us/sample - loss: 0.0806 - val_loss: 0.1090\n",
            "Epoch 37/600\n",
            "426/426 [==============================] - 0s 615us/sample - loss: 0.0783 - val_loss: 0.1050\n",
            "Epoch 38/600\n",
            "426/426 [==============================] - 0s 554us/sample - loss: 0.0754 - val_loss: 0.1055\n",
            "Epoch 39/600\n",
            "426/426 [==============================] - 0s 515us/sample - loss: 0.0739 - val_loss: 0.1047\n",
            "Epoch 40/600\n",
            "426/426 [==============================] - 0s 494us/sample - loss: 0.0722 - val_loss: 0.1035\n",
            "Epoch 41/600\n",
            "426/426 [==============================] - 0s 664us/sample - loss: 0.0713 - val_loss: 0.1069\n",
            "Epoch 42/600\n",
            "426/426 [==============================] - 0s 722us/sample - loss: 0.0696 - val_loss: 0.1025\n",
            "Epoch 43/600\n",
            "426/426 [==============================] - 0s 630us/sample - loss: 0.0697 - val_loss: 0.1035\n",
            "Epoch 44/600\n",
            "426/426 [==============================] - 0s 581us/sample - loss: 0.0695 - val_loss: 0.1058\n",
            "Epoch 45/600\n",
            "426/426 [==============================] - 0s 422us/sample - loss: 0.0745 - val_loss: 0.1018\n",
            "Epoch 46/600\n",
            "426/426 [==============================] - 0s 606us/sample - loss: 0.0678 - val_loss: 0.1084\n",
            "Epoch 47/600\n",
            "426/426 [==============================] - 0s 663us/sample - loss: 0.0655 - val_loss: 0.1040\n",
            "Epoch 48/600\n",
            "426/426 [==============================] - 0s 866us/sample - loss: 0.0644 - val_loss: 0.1063\n",
            "Epoch 49/600\n",
            "426/426 [==============================] - 0s 781us/sample - loss: 0.0756 - val_loss: 0.1043\n",
            "Epoch 50/600\n",
            "426/426 [==============================] - 0s 385us/sample - loss: 0.0638 - val_loss: 0.1005\n",
            "Epoch 51/600\n",
            "426/426 [==============================] - 0s 639us/sample - loss: 0.0615 - val_loss: 0.1123\n",
            "Epoch 52/600\n",
            "426/426 [==============================] - 0s 587us/sample - loss: 0.0621 - val_loss: 0.1043\n",
            "Epoch 53/600\n",
            "426/426 [==============================] - 0s 633us/sample - loss: 0.0603 - val_loss: 0.1054\n",
            "Epoch 54/600\n",
            "426/426 [==============================] - 0s 689us/sample - loss: 0.0598 - val_loss: 0.1064\n",
            "Epoch 55/600\n",
            "426/426 [==============================] - 0s 482us/sample - loss: 0.0595 - val_loss: 0.1051\n",
            "Epoch 56/600\n",
            "426/426 [==============================] - 0s 388us/sample - loss: 0.0589 - val_loss: 0.1048\n",
            "Epoch 57/600\n",
            "426/426 [==============================] - 0s 575us/sample - loss: 0.0578 - val_loss: 0.1064\n",
            "Epoch 58/600\n",
            "426/426 [==============================] - 0s 526us/sample - loss: 0.0584 - val_loss: 0.1068\n",
            "Epoch 59/600\n",
            "426/426 [==============================] - 0s 526us/sample - loss: 0.0584 - val_loss: 0.1034\n",
            "Epoch 60/600\n",
            "426/426 [==============================] - 0s 511us/sample - loss: 0.0576 - val_loss: 0.1018\n",
            "Epoch 61/600\n",
            "426/426 [==============================] - 0s 666us/sample - loss: 0.0571 - val_loss: 0.1040\n",
            "Epoch 62/600\n",
            "426/426 [==============================] - 0s 649us/sample - loss: 0.0566 - val_loss: 0.1110\n",
            "Epoch 63/600\n",
            "426/426 [==============================] - 0s 604us/sample - loss: 0.0560 - val_loss: 0.1059\n",
            "Epoch 64/600\n",
            "426/426 [==============================] - 0s 578us/sample - loss: 0.0565 - val_loss: 0.1065\n",
            "Epoch 65/600\n",
            "426/426 [==============================] - 0s 394us/sample - loss: 0.0543 - val_loss: 0.1036\n",
            "Epoch 66/600\n",
            "426/426 [==============================] - 0s 811us/sample - loss: 0.0541 - val_loss: 0.1093\n",
            "Epoch 67/600\n",
            "426/426 [==============================] - 0s 596us/sample - loss: 0.0537 - val_loss: 0.1112\n",
            "Epoch 68/600\n",
            "426/426 [==============================] - 0s 628us/sample - loss: 0.0548 - val_loss: 0.1106\n",
            "Epoch 69/600\n",
            "426/426 [==============================] - 0s 468us/sample - loss: 0.0553 - val_loss: 0.1083\n",
            "Epoch 70/600\n",
            "426/426 [==============================] - 0s 823us/sample - loss: 0.0556 - val_loss: 0.1074\n",
            "Epoch 71/600\n",
            "426/426 [==============================] - 0s 460us/sample - loss: 0.0523 - val_loss: 0.1123\n",
            "Epoch 72/600\n",
            "426/426 [==============================] - 0s 538us/sample - loss: 0.0521 - val_loss: 0.1088\n",
            "Epoch 73/600\n",
            "426/426 [==============================] - 0s 485us/sample - loss: 0.0543 - val_loss: 0.1158\n",
            "Epoch 74/600\n",
            "426/426 [==============================] - 0s 371us/sample - loss: 0.0581 - val_loss: 0.1092\n",
            "Epoch 75/600\n",
            "426/426 [==============================] - 0s 692us/sample - loss: 0.0516 - val_loss: 0.1062\n",
            "Epoch 00075: early stopping\n",
            "CPU times: user 44.5 s, sys: 43.8 s, total: 1min 28s\n",
            "Wall time: 19.9 s\n"
          ],
          "name": "stdout"
        },
        {
          "output_type": "execute_result",
          "data": {
            "text/plain": [
              "<tensorflow.python.keras.callbacks.History at 0x7fc20c507128>"
            ]
          },
          "metadata": {
            "tags": []
          },
          "execution_count": 29
        }
      ]
    },
    {
      "cell_type": "code",
      "metadata": {
        "id": "feV_yEXFVk8L",
        "outputId": "dc8ce5f1-35c3-4fb2-b7f4-738d979d9acb"
      },
      "source": [
        "model_loss = pd.DataFrame(model.history.history)\n",
        "model_loss.plot()"
      ],
      "execution_count": null,
      "outputs": [
        {
          "output_type": "execute_result",
          "data": {
            "text/plain": [
              "<matplotlib.axes._subplots.AxesSubplot at 0x7fc20c507e80>"
            ]
          },
          "metadata": {
            "tags": []
          },
          "execution_count": 30
        },
        {
          "output_type": "display_data",
          "data": {
            "image/png": "[encoded data removed]",
            "text/plain": [
              "<Figure size 432x288 with 1 Axes>"
            ]
          },
          "metadata": {
            "tags": [],
            "needs_background": "light"
          }
        }
      ]
    },
    {
      "cell_type": "code",
      "metadata": {
        "id": "nDF5Q24mTzAw",
        "colab": {
          "base_uri": "https://localhost:8080/"
        },
        "outputId": "1e559b37-31f0-4c4e-b87d-917e08f2a480"
      },
      "source": [
        "predictions = model.predict_classes(X_test)"
      ],
      "execution_count": null,
      "outputs": [
        {
          "output_type": "stream",
          "text": [
            "/usr/local/lib/python3.7/dist-packages/tensorflow/python/keras/engine/sequential.py:450: UserWarning: `model.predict_classes()` is deprecated and will be removed after 2021-01-01. Please use instead:* `np.argmax(model.predict(x), axis=-1)`,   if your model does multi-class classification   (e.g. if it uses a `softmax` last-layer activation).* `(model.predict(x) > 0.5).astype(\"int32\")`,   if your model does binary classification   (e.g. if it uses a `sigmoid` last-layer activation).\n",
            "  warnings.warn('`model.predict_classes()` is deprecated and '\n"
          ],
          "name": "stderr"
        }
      ]
    },
    {
      "cell_type": "code",
      "metadata": {
        "id": "j3BuSe11TzAw"
      },
      "source": [
        "from sklearn.metrics import classification_report,confusion_matrix"
      ],
      "execution_count": null,
      "outputs": []
    },
    {
      "cell_type": "markdown",
      "metadata": {
        "id": "iu0a3MtAV25C"
      },
      "source": [
        "## Model Evaluation"
      ]
    },
    {
      "cell_type": "code",
      "metadata": {
        "id": "THSCCcXSTzAx",
        "colab": {
          "base_uri": "https://localhost:8080/"
        },
        "outputId": "5b3a5dca-a03d-494a-f8d1-195921b0a70d"
      },
      "source": [
        "\n",
        "print(classification_report(y_test,predictions))"
      ],
      "execution_count": null,
      "outputs": [
        {
          "output_type": "stream",
          "text": [
            "              precision    recall  f1-score   support\n",
            "\n",
            "           0       0.93      0.98      0.96        55\n",
            "           1       0.99      0.95      0.97        88\n",
            "\n",
            "    accuracy                           0.97       143\n",
            "   macro avg       0.96      0.97      0.96       143\n",
            "weighted avg       0.97      0.97      0.97       143\n",
            "\n"
          ],
          "name": "stdout"
        }
      ]
    },
    {
      "cell_type": "code",
      "metadata": {
        "id": "zJ0wGGLoTzAx",
        "colab": {
          "base_uri": "https://localhost:8080/"
        },
        "outputId": "fc2053a5-889c-4130-ce77-8d79fb5b8e38"
      },
      "source": [
        "print(confusion_matrix(y_test,predictions))"
      ],
      "execution_count": null,
      "outputs": [
        {
          "output_type": "stream",
          "text": [
            "[[54  1]\n",
            " [ 4 84]]\n"
          ],
          "name": "stdout"
        }
      ]
    },
    {
      "cell_type": "markdown",
      "metadata": {
        "id": "l-lMPxRLVoII"
      },
      "source": [
        "## Using Dropout layer"
      ]
    },
    {
      "cell_type": "code",
      "metadata": {
        "id": "hM4_6XBOTzAv"
      },
      "source": [
        "from tensorflow.keras.layers import Dropout"
      ],
      "execution_count": null,
      "outputs": []
    },
    {
      "cell_type": "code",
      "metadata": {
        "id": "0sRMsnkDTzAv"
      },
      "source": [
        "model = Sequential()\n",
        "model.add(Dense(units=30,activation='relu'))\n",
        "model.add(Dropout(0.5))\n",
        "\n",
        "model.add(Dense(units=15,activation='relu'))\n",
        "model.add(Dropout(0.5))\n",
        "\n",
        "model.add(Dense(units=1,activation='sigmoid'))\n",
        "model.compile(loss='binary_crossentropy', optimizer='adam')"
      ],
      "execution_count": null,
      "outputs": []
    },
    {
      "cell_type": "code",
      "metadata": {
        "scrolled": true,
        "id": "EUHHvlGGTzAw",
        "colab": {
          "base_uri": "https://localhost:8080/"
        },
        "outputId": "c3ae0a10-a51d-4db6-f32c-866b0e73c4ba"
      },
      "source": [
        "%%time\n",
        "model.fit(x=X_train, \n",
        "          y=y_train, \n",
        "          epochs=600,\n",
        "          validation_data=(X_test, y_test), verbose=1,\n",
        "          callbacks=[early_stop]\n",
        "          )"
      ],
      "execution_count": null,
      "outputs": [
        {
          "output_type": "stream",
          "text": [
            "Epoch 1/600\n",
            "14/14 [==============================] - 1s 19ms/step - loss: 0.7253 - val_loss: 0.6754\n",
            "Epoch 2/600\n",
            "14/14 [==============================] - 0s 6ms/step - loss: 0.6963 - val_loss: 0.6583\n",
            "Epoch 3/600\n",
            "14/14 [==============================] - 0s 7ms/step - loss: 0.6553 - val_loss: 0.6407\n",
            "Epoch 4/600\n",
            "14/14 [==============================] - 0s 6ms/step - loss: 0.6571 - val_loss: 0.6227\n",
            "Epoch 5/600\n",
            "14/14 [==============================] - 0s 8ms/step - loss: 0.6317 - val_loss: 0.6033\n",
            "Epoch 6/600\n",
            "14/14 [==============================] - 0s 7ms/step - loss: 0.6337 - val_loss: 0.5819\n",
            "Epoch 7/600\n",
            "14/14 [==============================] - 0s 7ms/step - loss: 0.5895 - val_loss: 0.5504\n",
            "Epoch 8/600\n",
            "14/14 [==============================] - 0s 8ms/step - loss: 0.5815 - val_loss: 0.5158\n",
            "Epoch 9/600\n",
            "14/14 [==============================] - 0s 7ms/step - loss: 0.5500 - val_loss: 0.4878\n",
            "Epoch 10/600\n",
            "14/14 [==============================] - 0s 8ms/step - loss: 0.5266 - val_loss: 0.4535\n",
            "Epoch 11/600\n",
            "14/14 [==============================] - 0s 8ms/step - loss: 0.4919 - val_loss: 0.4218\n",
            "Epoch 12/600\n",
            "14/14 [==============================] - 0s 7ms/step - loss: 0.4731 - val_loss: 0.3969\n",
            "Epoch 13/600\n",
            "14/14 [==============================] - 0s 8ms/step - loss: 0.4935 - val_loss: 0.3742\n",
            "Epoch 14/600\n",
            "14/14 [==============================] - 0s 8ms/step - loss: 0.4583 - val_loss: 0.3513\n",
            "Epoch 15/600\n",
            "14/14 [==============================] - 0s 7ms/step - loss: 0.4153 - val_loss: 0.3279\n",
            "Epoch 16/600\n",
            "14/14 [==============================] - 0s 7ms/step - loss: 0.4208 - val_loss: 0.3107\n",
            "Epoch 17/600\n",
            "14/14 [==============================] - 0s 7ms/step - loss: 0.4095 - val_loss: 0.2935\n",
            "Epoch 18/600\n",
            "14/14 [==============================] - 0s 7ms/step - loss: 0.3664 - val_loss: 0.2782\n",
            "Epoch 19/600\n",
            "14/14 [==============================] - 0s 6ms/step - loss: 0.3297 - val_loss: 0.2604\n",
            "Epoch 20/600\n",
            "14/14 [==============================] - 0s 7ms/step - loss: 0.3443 - val_loss: 0.2501\n",
            "Epoch 21/600\n",
            "14/14 [==============================] - 0s 7ms/step - loss: 0.3250 - val_loss: 0.2356\n",
            "Epoch 22/600\n",
            "14/14 [==============================] - 0s 7ms/step - loss: 0.2990 - val_loss: 0.2283\n",
            "Epoch 23/600\n",
            "14/14 [==============================] - 0s 7ms/step - loss: 0.2991 - val_loss: 0.2186\n",
            "Epoch 24/600\n",
            "14/14 [==============================] - 0s 7ms/step - loss: 0.3237 - val_loss: 0.2090\n",
            "Epoch 25/600\n",
            "14/14 [==============================] - 0s 7ms/step - loss: 0.2883 - val_loss: 0.2033\n",
            "Epoch 26/600\n",
            "14/14 [==============================] - 0s 7ms/step - loss: 0.3135 - val_loss: 0.1957\n",
            "Epoch 27/600\n",
            "14/14 [==============================] - 0s 7ms/step - loss: 0.2911 - val_loss: 0.1892\n",
            "Epoch 28/600\n",
            "14/14 [==============================] - 0s 7ms/step - loss: 0.3212 - val_loss: 0.1933\n",
            "Epoch 29/600\n",
            "14/14 [==============================] - 0s 7ms/step - loss: 0.2794 - val_loss: 0.1887\n",
            "Epoch 30/600\n",
            "14/14 [==============================] - 0s 8ms/step - loss: 0.2744 - val_loss: 0.1799\n",
            "Epoch 31/600\n",
            "14/14 [==============================] - 0s 7ms/step - loss: 0.2805 - val_loss: 0.1738\n",
            "Epoch 32/600\n",
            "14/14 [==============================] - 0s 7ms/step - loss: 0.2655 - val_loss: 0.1659\n",
            "Epoch 33/600\n",
            "14/14 [==============================] - 0s 7ms/step - loss: 0.2398 - val_loss: 0.1616\n",
            "Epoch 34/600\n",
            "14/14 [==============================] - 0s 7ms/step - loss: 0.2428 - val_loss: 0.1534\n",
            "Epoch 35/600\n",
            "14/14 [==============================] - 0s 7ms/step - loss: 0.2898 - val_loss: 0.1510\n",
            "Epoch 36/600\n",
            "14/14 [==============================] - 0s 7ms/step - loss: 0.2600 - val_loss: 0.1449\n",
            "Epoch 37/600\n",
            "14/14 [==============================] - 0s 8ms/step - loss: 0.2331 - val_loss: 0.1461\n",
            "Epoch 38/600\n",
            "14/14 [==============================] - 0s 7ms/step - loss: 0.2203 - val_loss: 0.1381\n",
            "Epoch 39/600\n",
            "14/14 [==============================] - 0s 6ms/step - loss: 0.2360 - val_loss: 0.1374\n",
            "Epoch 40/600\n",
            "14/14 [==============================] - 0s 7ms/step - loss: 0.2410 - val_loss: 0.1317\n",
            "Epoch 41/600\n",
            "14/14 [==============================] - 0s 7ms/step - loss: 0.2307 - val_loss: 0.1303\n",
            "Epoch 42/600\n",
            "14/14 [==============================] - 0s 7ms/step - loss: 0.2113 - val_loss: 0.1316\n",
            "Epoch 43/600\n",
            "14/14 [==============================] - 0s 7ms/step - loss: 0.2242 - val_loss: 0.1371\n",
            "Epoch 44/600\n",
            "14/14 [==============================] - 0s 7ms/step - loss: 0.1875 - val_loss: 0.1218\n",
            "Epoch 45/600\n",
            "14/14 [==============================] - 0s 7ms/step - loss: 0.2182 - val_loss: 0.1170\n",
            "Epoch 46/600\n",
            "14/14 [==============================] - 0s 7ms/step - loss: 0.2121 - val_loss: 0.1240\n",
            "Epoch 47/600\n",
            "14/14 [==============================] - 0s 7ms/step - loss: 0.1988 - val_loss: 0.1173\n",
            "Epoch 48/600\n",
            "14/14 [==============================] - 0s 6ms/step - loss: 0.1952 - val_loss: 0.1154\n",
            "Epoch 49/600\n",
            "14/14 [==============================] - 0s 7ms/step - loss: 0.1996 - val_loss: 0.1152\n",
            "Epoch 50/600\n",
            "14/14 [==============================] - 0s 6ms/step - loss: 0.2319 - val_loss: 0.1163\n",
            "Epoch 51/600\n",
            "14/14 [==============================] - 0s 8ms/step - loss: 0.1827 - val_loss: 0.1157\n",
            "Epoch 52/600\n",
            "14/14 [==============================] - 0s 7ms/step - loss: 0.1530 - val_loss: 0.1077\n",
            "Epoch 53/600\n",
            "14/14 [==============================] - 0s 7ms/step - loss: 0.1760 - val_loss: 0.1067\n",
            "Epoch 54/600\n",
            "14/14 [==============================] - 0s 7ms/step - loss: 0.1969 - val_loss: 0.1057\n",
            "Epoch 55/600\n",
            "14/14 [==============================] - 0s 7ms/step - loss: 0.1679 - val_loss: 0.1107\n",
            "Epoch 56/600\n",
            "14/14 [==============================] - 0s 7ms/step - loss: 0.1911 - val_loss: 0.1075\n",
            "Epoch 57/600\n",
            "14/14 [==============================] - 0s 7ms/step - loss: 0.1893 - val_loss: 0.1075\n",
            "Epoch 58/600\n",
            "14/14 [==============================] - 0s 8ms/step - loss: 0.1554 - val_loss: 0.1021\n",
            "Epoch 59/600\n",
            "14/14 [==============================] - 0s 7ms/step - loss: 0.1884 - val_loss: 0.1001\n",
            "Epoch 60/600\n",
            "14/14 [==============================] - 0s 7ms/step - loss: 0.1719 - val_loss: 0.1016\n",
            "Epoch 61/600\n",
            "14/14 [==============================] - 0s 7ms/step - loss: 0.1517 - val_loss: 0.0956\n",
            "Epoch 62/600\n",
            "14/14 [==============================] - 0s 7ms/step - loss: 0.1553 - val_loss: 0.0935\n",
            "Epoch 63/600\n",
            "14/14 [==============================] - 0s 9ms/step - loss: 0.1345 - val_loss: 0.0931\n",
            "Epoch 64/600\n",
            "14/14 [==============================] - 0s 7ms/step - loss: 0.1448 - val_loss: 0.0948\n",
            "Epoch 65/600\n",
            "14/14 [==============================] - 0s 7ms/step - loss: 0.1525 - val_loss: 0.0915\n",
            "Epoch 66/600\n",
            "14/14 [==============================] - 0s 7ms/step - loss: 0.1849 - val_loss: 0.0928\n",
            "Epoch 67/600\n",
            "14/14 [==============================] - 0s 7ms/step - loss: 0.1366 - val_loss: 0.0928\n",
            "Epoch 68/600\n",
            "14/14 [==============================] - 0s 7ms/step - loss: 0.1206 - val_loss: 0.0898\n",
            "Epoch 69/600\n",
            "14/14 [==============================] - 0s 7ms/step - loss: 0.1387 - val_loss: 0.0874\n",
            "Epoch 70/600\n",
            "14/14 [==============================] - 0s 9ms/step - loss: 0.1573 - val_loss: 0.0870\n",
            "Epoch 71/600\n",
            "14/14 [==============================] - 0s 7ms/step - loss: 0.1218 - val_loss: 0.1061\n",
            "Epoch 72/600\n",
            "14/14 [==============================] - 0s 7ms/step - loss: 0.1310 - val_loss: 0.0925\n",
            "Epoch 73/600\n",
            "14/14 [==============================] - 0s 7ms/step - loss: 0.1336 - val_loss: 0.0894\n",
            "Epoch 74/600\n",
            "14/14 [==============================] - 0s 7ms/step - loss: 0.1349 - val_loss: 0.0983\n",
            "Epoch 75/600\n",
            "14/14 [==============================] - 0s 7ms/step - loss: 0.1378 - val_loss: 0.0911\n",
            "Epoch 76/600\n",
            "14/14 [==============================] - 0s 7ms/step - loss: 0.1366 - val_loss: 0.0914\n",
            "Epoch 77/600\n",
            "14/14 [==============================] - 0s 8ms/step - loss: 0.1426 - val_loss: 0.0898\n",
            "Epoch 78/600\n",
            "14/14 [==============================] - 0s 7ms/step - loss: 0.1464 - val_loss: 0.0890\n",
            "Epoch 79/600\n",
            "14/14 [==============================] - 0s 8ms/step - loss: 0.1495 - val_loss: 0.0970\n",
            "Epoch 80/600\n",
            "14/14 [==============================] - 0s 7ms/step - loss: 0.1295 - val_loss: 0.0853\n",
            "Epoch 81/600\n",
            "14/14 [==============================] - 0s 7ms/step - loss: 0.1328 - val_loss: 0.0880\n",
            "Epoch 82/600\n",
            "14/14 [==============================] - 0s 7ms/step - loss: 0.0982 - val_loss: 0.0960\n",
            "Epoch 83/600\n",
            "14/14 [==============================] - 0s 8ms/step - loss: 0.1278 - val_loss: 0.0922\n",
            "Epoch 84/600\n",
            "14/14 [==============================] - 0s 8ms/step - loss: 0.1313 - val_loss: 0.0852\n",
            "Epoch 85/600\n",
            "14/14 [==============================] - 0s 7ms/step - loss: 0.1101 - val_loss: 0.0853\n",
            "Epoch 86/600\n",
            "14/14 [==============================] - 0s 7ms/step - loss: 0.1175 - val_loss: 0.0872\n",
            "Epoch 87/600\n",
            "14/14 [==============================] - 0s 7ms/step - loss: 0.1198 - val_loss: 0.0808\n",
            "Epoch 88/600\n",
            "14/14 [==============================] - 0s 7ms/step - loss: 0.1069 - val_loss: 0.0887\n",
            "Epoch 89/600\n",
            "14/14 [==============================] - 0s 7ms/step - loss: 0.1000 - val_loss: 0.0781\n",
            "Epoch 90/600\n",
            "14/14 [==============================] - 0s 8ms/step - loss: 0.1483 - val_loss: 0.0809\n",
            "Epoch 91/600\n",
            "14/14 [==============================] - 0s 7ms/step - loss: 0.1349 - val_loss: 0.0853\n",
            "Epoch 92/600\n",
            "14/14 [==============================] - 0s 7ms/step - loss: 0.0958 - val_loss: 0.0774\n",
            "Epoch 93/600\n",
            "14/14 [==============================] - 0s 8ms/step - loss: 0.1093 - val_loss: 0.0803\n",
            "Epoch 94/600\n",
            "14/14 [==============================] - 0s 8ms/step - loss: 0.1372 - val_loss: 0.0857\n",
            "Epoch 95/600\n",
            "14/14 [==============================] - 0s 7ms/step - loss: 0.1206 - val_loss: 0.0815\n",
            "Epoch 96/600\n",
            "14/14 [==============================] - 0s 7ms/step - loss: 0.0914 - val_loss: 0.0808\n",
            "Epoch 97/600\n",
            "14/14 [==============================] - 0s 7ms/step - loss: 0.1248 - val_loss: 0.0826\n",
            "Epoch 98/600\n",
            "14/14 [==============================] - 0s 7ms/step - loss: 0.1219 - val_loss: 0.0788\n",
            "Epoch 99/600\n",
            "14/14 [==============================] - 0s 7ms/step - loss: 0.1318 - val_loss: 0.0778\n",
            "Epoch 100/600\n",
            "14/14 [==============================] - 0s 7ms/step - loss: 0.1280 - val_loss: 0.0796\n",
            "Epoch 101/600\n",
            "14/14 [==============================] - 0s 7ms/step - loss: 0.1216 - val_loss: 0.0774\n",
            "Epoch 102/600\n",
            "14/14 [==============================] - 0s 9ms/step - loss: 0.1231 - val_loss: 0.0823\n",
            "Epoch 103/600\n",
            "14/14 [==============================] - 0s 8ms/step - loss: 0.1125 - val_loss: 0.0865\n",
            "Epoch 104/600\n",
            "14/14 [==============================] - 0s 7ms/step - loss: 0.1025 - val_loss: 0.0874\n",
            "Epoch 105/600\n",
            "14/14 [==============================] - 0s 7ms/step - loss: 0.1440 - val_loss: 0.0908\n",
            "Epoch 106/600\n",
            "14/14 [==============================] - 0s 7ms/step - loss: 0.0854 - val_loss: 0.0750\n",
            "Epoch 107/600\n",
            "14/14 [==============================] - 0s 7ms/step - loss: 0.1065 - val_loss: 0.0763\n",
            "Epoch 108/600\n",
            "14/14 [==============================] - 0s 7ms/step - loss: 0.1107 - val_loss: 0.0842\n",
            "Epoch 109/600\n",
            "14/14 [==============================] - 0s 7ms/step - loss: 0.1253 - val_loss: 0.0781\n",
            "Epoch 110/600\n",
            "14/14 [==============================] - 0s 8ms/step - loss: 0.1040 - val_loss: 0.0788\n",
            "Epoch 111/600\n",
            "14/14 [==============================] - 0s 7ms/step - loss: 0.1069 - val_loss: 0.0788\n",
            "Epoch 112/600\n",
            "14/14 [==============================] - 0s 8ms/step - loss: 0.1230 - val_loss: 0.0806\n",
            "Epoch 113/600\n",
            "14/14 [==============================] - 0s 7ms/step - loss: 0.0910 - val_loss: 0.0831\n",
            "Epoch 114/600\n",
            "14/14 [==============================] - 0s 7ms/step - loss: 0.0924 - val_loss: 0.0750\n",
            "Epoch 115/600\n",
            "14/14 [==============================] - 0s 8ms/step - loss: 0.0951 - val_loss: 0.0769\n",
            "Epoch 116/600\n",
            "14/14 [==============================] - 0s 8ms/step - loss: 0.0655 - val_loss: 0.0800\n",
            "Epoch 117/600\n",
            "14/14 [==============================] - 0s 9ms/step - loss: 0.0999 - val_loss: 0.0847\n",
            "Epoch 118/600\n",
            "14/14 [==============================] - 0s 7ms/step - loss: 0.1301 - val_loss: 0.0725\n",
            "Epoch 119/600\n",
            "14/14 [==============================] - 0s 7ms/step - loss: 0.0930 - val_loss: 0.0817\n",
            "Epoch 120/600\n",
            "14/14 [==============================] - 0s 8ms/step - loss: 0.1045 - val_loss: 0.0769\n",
            "Epoch 121/600\n",
            "14/14 [==============================] - 0s 8ms/step - loss: 0.0792 - val_loss: 0.0755\n",
            "Epoch 122/600\n",
            "14/14 [==============================] - 0s 7ms/step - loss: 0.0886 - val_loss: 0.0841\n",
            "Epoch 123/600\n",
            "14/14 [==============================] - 0s 7ms/step - loss: 0.0876 - val_loss: 0.0752\n",
            "Epoch 124/600\n",
            "14/14 [==============================] - 0s 7ms/step - loss: 0.0973 - val_loss: 0.0803\n",
            "Epoch 125/600\n",
            "14/14 [==============================] - 0s 7ms/step - loss: 0.1021 - val_loss: 0.0824\n",
            "Epoch 126/600\n",
            "14/14 [==============================] - 0s 7ms/step - loss: 0.1158 - val_loss: 0.0759\n",
            "Epoch 127/600\n",
            "14/14 [==============================] - 0s 7ms/step - loss: 0.0897 - val_loss: 0.0845\n",
            "Epoch 128/600\n",
            "14/14 [==============================] - 0s 7ms/step - loss: 0.0914 - val_loss: 0.0783\n",
            "Epoch 129/600\n",
            "14/14 [==============================] - 0s 7ms/step - loss: 0.1268 - val_loss: 0.0756\n",
            "Epoch 130/600\n",
            "14/14 [==============================] - 0s 8ms/step - loss: 0.0717 - val_loss: 0.0714\n",
            "Epoch 131/600\n",
            "14/14 [==============================] - 0s 7ms/step - loss: 0.1026 - val_loss: 0.0880\n",
            "Epoch 132/600\n",
            "14/14 [==============================] - 0s 7ms/step - loss: 0.1066 - val_loss: 0.0881\n",
            "Epoch 133/600\n",
            "14/14 [==============================] - 0s 7ms/step - loss: 0.0851 - val_loss: 0.0786\n",
            "Epoch 134/600\n",
            "14/14 [==============================] - 0s 7ms/step - loss: 0.1015 - val_loss: 0.0793\n",
            "Epoch 135/600\n",
            "14/14 [==============================] - 0s 7ms/step - loss: 0.0847 - val_loss: 0.0901\n",
            "Epoch 136/600\n",
            "14/14 [==============================] - 0s 8ms/step - loss: 0.1261 - val_loss: 0.0700\n",
            "Epoch 137/600\n",
            "14/14 [==============================] - 0s 7ms/step - loss: 0.0848 - val_loss: 0.0722\n",
            "Epoch 138/600\n",
            "14/14 [==============================] - 0s 8ms/step - loss: 0.0800 - val_loss: 0.0758\n",
            "Epoch 139/600\n",
            "14/14 [==============================] - 0s 7ms/step - loss: 0.1034 - val_loss: 0.0730\n",
            "Epoch 140/600\n",
            "14/14 [==============================] - 0s 7ms/step - loss: 0.1050 - val_loss: 0.0746\n",
            "Epoch 141/600\n",
            "14/14 [==============================] - 0s 7ms/step - loss: 0.0881 - val_loss: 0.0704\n",
            "Epoch 142/600\n",
            "14/14 [==============================] - 0s 7ms/step - loss: 0.1035 - val_loss: 0.0795\n",
            "Epoch 143/600\n",
            "14/14 [==============================] - 0s 8ms/step - loss: 0.0887 - val_loss: 0.0790\n",
            "Epoch 144/600\n",
            "14/14 [==============================] - 0s 7ms/step - loss: 0.0703 - val_loss: 0.0752\n",
            "Epoch 145/600\n",
            "14/14 [==============================] - 0s 7ms/step - loss: 0.1175 - val_loss: 0.0893\n",
            "Epoch 146/600\n",
            "14/14 [==============================] - 0s 7ms/step - loss: 0.0817 - val_loss: 0.0872\n",
            "Epoch 147/600\n",
            "14/14 [==============================] - 0s 8ms/step - loss: 0.0866 - val_loss: 0.0732\n",
            "Epoch 148/600\n",
            "14/14 [==============================] - 0s 7ms/step - loss: 0.0804 - val_loss: 0.0812\n",
            "Epoch 149/600\n",
            "14/14 [==============================] - 0s 7ms/step - loss: 0.0822 - val_loss: 0.0822\n",
            "Epoch 150/600\n",
            "14/14 [==============================] - 0s 8ms/step - loss: 0.0764 - val_loss: 0.0821\n",
            "Epoch 151/600\n",
            "14/14 [==============================] - 0s 7ms/step - loss: 0.1411 - val_loss: 0.0794\n",
            "Epoch 152/600\n",
            "14/14 [==============================] - 0s 8ms/step - loss: 0.0686 - val_loss: 0.0737\n",
            "Epoch 153/600\n",
            "14/14 [==============================] - 0s 7ms/step - loss: 0.0818 - val_loss: 0.0785\n",
            "Epoch 154/600\n",
            "14/14 [==============================] - 0s 7ms/step - loss: 0.0864 - val_loss: 0.0744\n",
            "Epoch 155/600\n",
            "14/14 [==============================] - 0s 7ms/step - loss: 0.0687 - val_loss: 0.0836\n",
            "Epoch 156/600\n",
            "14/14 [==============================] - 0s 7ms/step - loss: 0.1122 - val_loss: 0.0800\n",
            "Epoch 157/600\n",
            "14/14 [==============================] - 0s 9ms/step - loss: 0.1173 - val_loss: 0.0820\n",
            "Epoch 158/600\n",
            "14/14 [==============================] - 0s 7ms/step - loss: 0.0794 - val_loss: 0.0751\n",
            "Epoch 159/600\n",
            "14/14 [==============================] - 0s 8ms/step - loss: 0.0926 - val_loss: 0.0768\n",
            "Epoch 160/600\n",
            "14/14 [==============================] - 0s 7ms/step - loss: 0.0669 - val_loss: 0.0786\n",
            "Epoch 161/600\n",
            "14/14 [==============================] - 0s 7ms/step - loss: 0.0936 - val_loss: 0.0940\n",
            "Epoch 00161: early stopping\n",
            "CPU times: user 16.8 s, sys: 649 ms, total: 17.4 s\n",
            "Wall time: 17.1 s\n"
          ],
          "name": "stdout"
        },
        {
          "output_type": "execute_result",
          "data": {
            "text/plain": [
              "<tensorflow.python.keras.callbacks.History at 0x7f7d8be1f210>"
            ]
          },
          "metadata": {
            "tags": []
          },
          "execution_count": 32
        }
      ]
    },
    {
      "cell_type": "code",
      "metadata": {
        "id": "Ym64rDkDTzAw",
        "colab": {
          "base_uri": "https://localhost:8080/",
          "height": 283
        },
        "outputId": "eeac98bd-ded7-4ce5-dbba-128c23ec5883"
      },
      "source": [
        "model_loss = pd.DataFrame(model.history.history)\n",
        "model_loss.plot()"
      ],
      "execution_count": null,
      "outputs": [
        {
          "output_type": "execute_result",
          "data": {
            "text/plain": [
              "<matplotlib.axes._subplots.AxesSubplot at 0x7f7d8b4a5f90>"
            ]
          },
          "metadata": {
            "tags": []
          },
          "execution_count": 33
        },
        {
          "output_type": "display_data",
          "data": {
            "image/png": "[encoded data removed]",
            "text/plain": [
              "<Figure size 432x288 with 1 Axes>"
            ]
          },
          "metadata": {
            "tags": [],
            "needs_background": "light"
          }
        }
      ]
    },
    {
      "cell_type": "markdown",
      "metadata": {
        "id": "o675KFcPTzAw"
      },
      "source": [
        "# Model Evaluation"
      ]
    },
    {
      "cell_type": "code",
      "metadata": {
        "colab": {
          "base_uri": "https://localhost:8080/"
        },
        "id": "HW7apNZMVwyX",
        "outputId": "7d509b01-92a0-4625-949b-77f83dd230e6"
      },
      "source": [
        "predictions = model.predict_classes(X_test)"
      ],
      "execution_count": null,
      "outputs": [
        {
          "output_type": "stream",
          "text": [
            "/usr/local/lib/python3.7/dist-packages/tensorflow/python/keras/engine/sequential.py:450: UserWarning: `model.predict_classes()` is deprecated and will be removed after 2021-01-01. Please use instead:* `np.argmax(model.predict(x), axis=-1)`,   if your model does multi-class classification   (e.g. if it uses a `softmax` last-layer activation).* `(model.predict(x) > 0.5).astype(\"int32\")`,   if your model does binary classification   (e.g. if it uses a `sigmoid` last-layer activation).\n",
            "  warnings.warn('`model.predict_classes()` is deprecated and '\n"
          ],
          "name": "stderr"
        }
      ]
    },
    {
      "cell_type": "code",
      "metadata": {
        "id": "g8EJxAhrVwyZ"
      },
      "source": [
        "from sklearn.metrics import classification_report,confusion_matrix"
      ],
      "execution_count": null,
      "outputs": []
    },
    {
      "cell_type": "code",
      "metadata": {
        "colab": {
          "base_uri": "https://localhost:8080/"
        },
        "id": "_yO2tap4VwyZ",
        "outputId": "476d477c-a49a-4127-c495-ec8feaec7ec0"
      },
      "source": [
        "\n",
        "print(classification_report(y_test,predictions))"
      ],
      "execution_count": null,
      "outputs": [
        {
          "output_type": "stream",
          "text": [
            "              precision    recall  f1-score   support\n",
            "\n",
            "           0       0.95      0.98      0.96        55\n",
            "           1       0.99      0.97      0.98        88\n",
            "\n",
            "    accuracy                           0.97       143\n",
            "   macro avg       0.97      0.97      0.97       143\n",
            "weighted avg       0.97      0.97      0.97       143\n",
            "\n"
          ],
          "name": "stdout"
        }
      ]
    },
    {
      "cell_type": "code",
      "metadata": {
        "colab": {
          "base_uri": "https://localhost:8080/"
        },
        "id": "gcsiWCVXVwyb",
        "outputId": "b936e46b-1a1c-492d-b16f-c6ee852dbf3f"
      },
      "source": [
        "print(confusion_matrix(y_test,predictions))"
      ],
      "execution_count": null,
      "outputs": [
        {
          "output_type": "stream",
          "text": [
            "[[54  1]\n",
            " [ 3 85]]\n"
          ],
          "name": "stdout"
        }
      ]
    },
    {
      "cell_type": "code",
      "metadata": {
        "id": "NFR_U6cWVzVI"
      },
      "source": [
        ""
      ],
      "execution_count": null,
      "outputs": []
    }
  ]
}