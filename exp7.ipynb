{
  "nbformat": 4,
  "nbformat_minor": 0,
  "metadata": {
    "colab": {
      "name": "exp7.ipynb",
      "provenance": []
    },
    "kernelspec": {
      "display_name": "Python 3",
      "name": "python3"
    }
  },
  "cells": [
    {
      "cell_type": "code",
      "metadata": {
        "id": "ZjZChDxlJ0z1"
      },
      "source": [
        "# Artificial Neural Network\r\n",
        "\r\n",
        "# Part 1 - Data Preprocessing\r\n",
        "\r\n",
        "# Importing the libraries\r\n",
        "import numpy as np\r\n",
        "import pandas as pd"
      ],
      "execution_count": 78,
      "outputs": []
    },
    {
      "cell_type": "code",
      "metadata": {
        "id": "GkK21CYFJ1re"
      },
      "source": [
        "# Importing the dataset\r\n",
        "dataset = pd.read_csv('Churn_Modelling (2).csv')\r\n"
      ],
      "execution_count": 79,
      "outputs": []
    },
    {
      "cell_type": "code",
      "metadata": {
        "colab": {
          "base_uri": "https://localhost:8080/",
          "height": 195
        },
        "id": "xT2F3fNaRW8C",
        "outputId": "d051f76f-7bf1-4507-e871-f8d7e9d7ef88"
      },
      "source": [
        "dataset.head()  "
      ],
      "execution_count": 80,
      "outputs": [
        {
          "output_type": "execute_result",
          "data": {
            "text/html": [
              "<div>\n",
              "<style scoped>\n",
              "    .dataframe tbody tr th:only-of-type {\n",
              "        vertical-align: middle;\n",
              "    }\n",
              "\n",
              "    .dataframe tbody tr th {\n",
              "        vertical-align: top;\n",
              "    }\n",
              "\n",
              "    .dataframe thead th {\n",
              "        text-align: right;\n",
              "    }\n",
              "</style>\n",
              "<table border=\"1\" class=\"dataframe\">\n",
              "  <thead>\n",
              "    <tr style=\"text-align: right;\">\n",
              "      <th></th>\n",
              "      <th>RowNumber</th>\n",
              "      <th>CustomerId</th>\n",
              "      <th>Surname</th>\n",
              "      <th>CreditScore</th>\n",
              "      <th>Geography</th>\n",
              "      <th>Gender</th>\n",
              "      <th>Age</th>\n",
              "      <th>Tenure</th>\n",
              "      <th>Balance</th>\n",
              "      <th>NumOfProducts</th>\n",
              "      <th>HasCrCard</th>\n",
              "      <th>IsActiveMember</th>\n",
              "      <th>EstimatedSalary</th>\n",
              "      <th>Exited</th>\n",
              "    </tr>\n",
              "  </thead>\n",
              "  <tbody>\n",
              "    <tr>\n",
              "      <th>0</th>\n",
              "      <td>1</td>\n",
              "      <td>15634602</td>\n",
              "      <td>Hargrave</td>\n",
              "      <td>619</td>\n",
              "      <td>France</td>\n",
              "      <td>Female</td>\n",
              "      <td>42</td>\n",
              "      <td>2</td>\n",
              "      <td>0.00</td>\n",
              "      <td>1</td>\n",
              "      <td>1</td>\n",
              "      <td>1</td>\n",
              "      <td>101348.88</td>\n",
              "      <td>1</td>\n",
              "    </tr>\n",
              "    <tr>\n",
              "      <th>1</th>\n",
              "      <td>2</td>\n",
              "      <td>15647311</td>\n",
              "      <td>Hill</td>\n",
              "      <td>608</td>\n",
              "      <td>Spain</td>\n",
              "      <td>Female</td>\n",
              "      <td>41</td>\n",
              "      <td>1</td>\n",
              "      <td>83807.86</td>\n",
              "      <td>1</td>\n",
              "      <td>0</td>\n",
              "      <td>1</td>\n",
              "      <td>112542.58</td>\n",
              "      <td>0</td>\n",
              "    </tr>\n",
              "    <tr>\n",
              "      <th>2</th>\n",
              "      <td>3</td>\n",
              "      <td>15619304</td>\n",
              "      <td>Onio</td>\n",
              "      <td>502</td>\n",
              "      <td>France</td>\n",
              "      <td>Female</td>\n",
              "      <td>42</td>\n",
              "      <td>8</td>\n",
              "      <td>159660.80</td>\n",
              "      <td>3</td>\n",
              "      <td>1</td>\n",
              "      <td>0</td>\n",
              "      <td>113931.57</td>\n",
              "      <td>1</td>\n",
              "    </tr>\n",
              "    <tr>\n",
              "      <th>3</th>\n",
              "      <td>4</td>\n",
              "      <td>15701354</td>\n",
              "      <td>Boni</td>\n",
              "      <td>699</td>\n",
              "      <td>France</td>\n",
              "      <td>Female</td>\n",
              "      <td>39</td>\n",
              "      <td>1</td>\n",
              "      <td>0.00</td>\n",
              "      <td>2</td>\n",
              "      <td>0</td>\n",
              "      <td>0</td>\n",
              "      <td>93826.63</td>\n",
              "      <td>0</td>\n",
              "    </tr>\n",
              "    <tr>\n",
              "      <th>4</th>\n",
              "      <td>5</td>\n",
              "      <td>15737888</td>\n",
              "      <td>Mitchell</td>\n",
              "      <td>850</td>\n",
              "      <td>Spain</td>\n",
              "      <td>Female</td>\n",
              "      <td>43</td>\n",
              "      <td>2</td>\n",
              "      <td>125510.82</td>\n",
              "      <td>1</td>\n",
              "      <td>1</td>\n",
              "      <td>1</td>\n",
              "      <td>79084.10</td>\n",
              "      <td>0</td>\n",
              "    </tr>\n",
              "  </tbody>\n",
              "</table>\n",
              "</div>"
            ],
            "text/plain": [
              "   RowNumber  CustomerId   Surname  ...  IsActiveMember EstimatedSalary Exited\n",
              "0          1    15634602  Hargrave  ...               1       101348.88      1\n",
              "1          2    15647311      Hill  ...               1       112542.58      0\n",
              "2          3    15619304      Onio  ...               0       113931.57      1\n",
              "3          4    15701354      Boni  ...               0        93826.63      0\n",
              "4          5    15737888  Mitchell  ...               1        79084.10      0\n",
              "\n",
              "[5 rows x 14 columns]"
            ]
          },
          "metadata": {
            "tags": []
          },
          "execution_count": 80
        }
      ]
    },
    {
      "cell_type": "code",
      "metadata": {
        "colab": {
          "base_uri": "https://localhost:8080/"
        },
        "id": "qWUygeefRTXD",
        "outputId": "9932bca4-daa7-4689-f9f9-d4668c741852"
      },
      "source": [
        "X = dataset.iloc[:, 3:13]\r\n",
        "print(X.shape)"
      ],
      "execution_count": 81,
      "outputs": [
        {
          "output_type": "stream",
          "text": [
            "(10000, 10)\n"
          ],
          "name": "stdout"
        }
      ]
    },
    {
      "cell_type": "code",
      "metadata": {
        "id": "_gBI7rzrZJRw"
      },
      "source": [
        ""
      ],
      "execution_count": 81,
      "outputs": []
    },
    {
      "cell_type": "code",
      "metadata": {
        "colab": {
          "base_uri": "https://localhost:8080/"
        },
        "id": "d6Ptq1yORTbc",
        "outputId": "274bf3e3-8e0b-454c-b683-1b2615dc34fc"
      },
      "source": [
        "y = dataset.iloc[:, -1]\r\n",
        "print(y.shape)"
      ],
      "execution_count": 82,
      "outputs": [
        {
          "output_type": "stream",
          "text": [
            "(10000,)\n"
          ],
          "name": "stdout"
        }
      ]
    },
    {
      "cell_type": "code",
      "metadata": {
        "id": "9XE2jhX_J3HB"
      },
      "source": [
        "X = X.values\r\n",
        "y = y.values   "
      ],
      "execution_count": 83,
      "outputs": []
    },
    {
      "cell_type": "code",
      "metadata": {
        "colab": {
          "base_uri": "https://localhost:8080/"
        },
        "id": "oXyfqMYoOBwk",
        "outputId": "8aa64afd-2a13-4e5a-f49e-7de6e31c44b5"
      },
      "source": [
        "print('X=',X)\r\n",
        "print('\\n')\r\n",
        "print('y=',y)"
      ],
      "execution_count": 84,
      "outputs": [
        {
          "output_type": "stream",
          "text": [
            "X= [[619 'France' 'Female' ... 1 1 101348.88]\n",
            " [608 'Spain' 'Female' ... 0 1 112542.58]\n",
            " [502 'France' 'Female' ... 1 0 113931.57]\n",
            " ...\n",
            " [709 'France' 'Female' ... 0 1 42085.58]\n",
            " [772 'Germany' 'Male' ... 1 0 92888.52]\n",
            " [792 'France' 'Female' ... 1 0 38190.78]]\n",
            "\n",
            "\n",
            "y= [1 0 1 ... 1 1 0]\n"
          ],
          "name": "stdout"
        }
      ]
    },
    {
      "cell_type": "code",
      "metadata": {
        "id": "I8yfndS_KNN5"
      },
      "source": [
        "# Encoding categorical data\r\n",
        "from sklearn.preprocessing import LabelEncoder, OneHotEncoder\r\n",
        "labelencoder_X_1 = LabelEncoder()\r\n",
        "X[:, 1] = labelencoder_X_1.fit_transform(X[:, 1])"
      ],
      "execution_count": 85,
      "outputs": []
    },
    {
      "cell_type": "code",
      "metadata": {
        "id": "4cES1jjPKN1L"
      },
      "source": [
        "labelencoder_X_2 = LabelEncoder()\r\n",
        "X[:, 2] = labelencoder_X_2.fit_transform(X[:, 2])"
      ],
      "execution_count": 86,
      "outputs": []
    },
    {
      "cell_type": "code",
      "metadata": {
        "id": "N8wwSBHfKQQr"
      },
      "source": [
        "from sklearn.compose import ColumnTransformer \r\n",
        "ct = ColumnTransformer([(\"Country\", OneHotEncoder(),[1])], remainder=\"passthrough\") # The last arg ([0]) is the list of columns you want to transform in this step\r\n",
        "X = ct.fit_transform(X) \r\n",
        "X = X[:, 1:]"
      ],
      "execution_count": 87,
      "outputs": []
    },
    {
      "cell_type": "code",
      "metadata": {
        "id": "H18dCTnFKS26"
      },
      "source": [
        "# Splitting the dataset into the Training set and Test set\r\n",
        "from sklearn.model_selection import train_test_split\r\n",
        "X_train, X_test, y_train, y_test = train_test_split(X, y, test_size = 0.2)"
      ],
      "execution_count": 88,
      "outputs": []
    },
    {
      "cell_type": "code",
      "metadata": {
        "id": "hwRQDkyqKUk3"
      },
      "source": [
        "# Feature Scaling\r\n",
        "from sklearn.preprocessing import StandardScaler\r\n",
        "sc = StandardScaler()\r\n",
        "X_train = sc.fit_transform(X_train)\r\n",
        "X_test = sc.transform(X_test)"
      ],
      "execution_count": 89,
      "outputs": []
    },
    {
      "cell_type": "code",
      "metadata": {
        "colab": {
          "base_uri": "https://localhost:8080/"
        },
        "id": "2z5uLrGeKV-H",
        "outputId": "78f2e2bf-c3e6-4ad4-cf84-7c0da57cc4d0"
      },
      "source": [
        "# Part 2 - Now let's make the ANN!\r\n",
        "\r\n",
        "# Importing the Keras libraries and packages\r\n",
        "import tensorflow as tf\r\n",
        "print (\"TensorFlow version: \" + tf.__version__)"
      ],
      "execution_count": 90,
      "outputs": [
        {
          "output_type": "stream",
          "text": [
            "TensorFlow version: 2.4.1\n"
          ],
          "name": "stdout"
        }
      ]
    },
    {
      "cell_type": "code",
      "metadata": {
        "id": "7WuJrMCDKYCB"
      },
      "source": [
        "# Tuning the ANN\r\n",
        "from tensorflow.keras.wrappers.scikit_learn import KerasClassifier\r\n",
        "from tensorflow.keras.models import Sequential\r\n",
        "from tensorflow.keras.layers import Dense\r\n",
        "from tensorflow.keras.layers import Dropout\r\n",
        "from sklearn.model_selection import GridSearchCV"
      ],
      "execution_count": 91,
      "outputs": []
    },
    {
      "cell_type": "code",
      "metadata": {
        "id": "SVL3nyClKZsX"
      },
      "source": [
        "def build_classifier(optimizer):\r\n",
        "    classifier = Sequential()\r\n",
        "    classifier.add(Dense(units = 6, kernel_initializer = 'uniform', activation = 'relu', input_dim = 11))\r\n",
        "    classifier.add(Dropout(rate = 0.1))\r\n",
        "    classifier.add(Dense(units = 6, kernel_initializer = 'uniform', activation = 'relu'))\r\n",
        "    classifier.add(Dropout(rate = 0.1))\r\n",
        "    classifier.add(Dense(units = 1, kernel_initializer = 'uniform', activation = 'sigmoid'))\r\n",
        "    classifier.compile(optimizer = optimizer, loss = 'binary_crossentropy', metrics = ['accuracy'])\r\n",
        "    return classifier"
      ],
      "execution_count": 92,
      "outputs": []
    },
    {
      "cell_type": "code",
      "metadata": {
        "id": "f75__3qnKb1Z"
      },
      "source": [
        "classifier = KerasClassifier(build_fn = build_classifier)"
      ],
      "execution_count": 93,
      "outputs": []
    },
    {
      "cell_type": "code",
      "metadata": {
        "id": "zIq-in2oK4nw"
      },
      "source": [
        "parameters = {'batch_size': [25, 32],\r\n",
        "              'epochs': [100, 500],\r\n",
        "              'optimizer': ['adam', 'rmsprop']}\r\n"
      ],
      "execution_count": 94,
      "outputs": []
    },
    {
      "cell_type": "code",
      "metadata": {
        "id": "0pTVwrmGK3HJ"
      },
      "source": [
        "grid_search = GridSearchCV(estimator = classifier,\r\n",
        "                           param_grid = parameters,\r\n",
        "                           scoring = 'accuracy',\r\n",
        "                           cv = 10, \r\n",
        "                           n_jobs=-1)\r\n"
      ],
      "execution_count": 95,
      "outputs": []
    },
    {
      "cell_type": "code",
      "metadata": {
        "id": "ZyItz16TK_ys"
      },
      "source": [
        "grid_search = grid_search.fit(X_train, y_train)"
      ],
      "execution_count": null,
      "outputs": []
    },
    {
      "cell_type": "code",
      "metadata": {
        "id": "m66X2IneKeNF"
      },
      "source": [
        "best_parameters = grid_search.best_params_\r\n",
        "best_accuracy = grid_search.best_score_"
      ],
      "execution_count": null,
      "outputs": []
    },
    {
      "cell_type": "code",
      "metadata": {
        "id": "2A6WY58KKkEU"
      },
      "source": [
        "# Part 3 - Making the predictions and evaluating the model\r\n",
        "\r\n",
        "# Predicting the Test set results\r\n",
        "y_pred = grid_search.predict(X_test)\r\n",
        "y_pred = (y_pred > 0.5)\r\n",
        "\r\n",
        "# Making the Confusion Matrix\r\n",
        "from sklearn.metrics import confusion_matrix\r\n",
        "cm = confusion_matrix(y_test, y_pred)"
      ],
      "execution_count": null,
      "outputs": []
    },
    {
      "cell_type": "code",
      "metadata": {
        "id": "j1FXFX9_KmFs"
      },
      "source": [
        "# Predicting a single new observation\r\n",
        "\"\"\"Predict if the customer with the following informations will leave the bank:\r\n",
        "Geography: France\r\n",
        "Credit Score: 600\r\n",
        "Gender: Male\r\n",
        "Age: 40\r\n",
        "Tenure: 3\r\n",
        "Balance: 60000\r\n",
        "Number of Products: 2\r\n",
        "Has Credit Card: Yes\r\n",
        "Is Active Member: Yes\r\n",
        "Estimated Salary: 50000\"\"\"\r\n",
        "new_prediction = grid_search.predict(sc.transform(np.array([[0.0, 0, 600, 1, 40, 3, 60000, 2, 1, 1, 50000]])))\r\n",
        "new_prediction = (new_prediction > 0.5)"
      ],
      "execution_count": null,
      "outputs": []
    },
    {
      "cell_type": "code",
      "metadata": {
        "id": "LOxOoVchac7x"
      },
      "source": [
        "\r\n",
        "X = dataset.iloc[:, 3:13]\r\n",
        "y = dataset.iloc[:, -1]\r\n"
      ],
      "execution_count": null,
      "outputs": []
    },
    {
      "cell_type": "code",
      "metadata": {
        "id": "ltbWB1puadDM"
      },
      "source": [
        "X = X.values\r\n",
        "y = y.values\r\n"
      ],
      "execution_count": null,
      "outputs": []
    },
    {
      "cell_type": "code",
      "metadata": {
        "id": "ZYRfeGttadFa"
      },
      "source": [
        "# Encoding categorical data\r\n",
        "from sklearn.preprocessing import LabelEncoder, OneHotEncoder\r\n",
        "labelencoder_X_1 = LabelEncoder()\r\n",
        "X[:, 1] = labelencoder_X_1.fit_transform(X[:, 1])\r\n",
        "\r\n",
        "labelencoder_X_2 = LabelEncoder()\r\n",
        "X[:, 2] = labelencoder_X_2.fit_transform(X[:, 2])\r\n"
      ],
      "execution_count": null,
      "outputs": []
    },
    {
      "cell_type": "code",
      "metadata": {
        "id": "l2HFO1Qxa3_z"
      },
      "source": [
        "from sklearn.compose import ColumnTransformer \r\n",
        "ct = ColumnTransformer([(\"Country\", OneHotEncoder(),[1])], remainder=\"passthrough\") # The last arg ([0]) is the list of columns you want to transform in this step\r\n",
        "X = ct.fit_transform(X) \r\n",
        "X = X[:, 1:]\r\n"
      ],
      "execution_count": null,
      "outputs": []
    },
    {
      "cell_type": "code",
      "metadata": {
        "id": "oqECJHRMa5LV"
      },
      "source": [
        "# Splitting the dataset into the Training set and Test set\r\n",
        "from sklearn.model_selection import train_test_split\r\n",
        "X_train, X_test, y_train, y_test = train_test_split(X, y, test_size = 0.2)\r\n"
      ],
      "execution_count": null,
      "outputs": []
    },
    {
      "cell_type": "code",
      "metadata": {
        "id": "dJi-ftPoa-jF"
      },
      "source": [
        "# Feature Scaling\r\n",
        "from sklearn.preprocessing import StandardScaler\r\n",
        "sc = StandardScaler()\r\n",
        "X_train = sc.fit_transform(X_train)\r\n",
        "X_test = sc.transform(X_test)"
      ],
      "execution_count": null,
      "outputs": []
    },
    {
      "cell_type": "code",
      "metadata": {
        "id": "HLhS8J5Ha-nn"
      },
      "source": [
        "# Part 2 - Now let's make the ANN!\r\n",
        "\r\n",
        "# Importing the Keras libraries and packages\r\n",
        "import tensorflow as tf\r\n",
        "print (\"TensorFlow version: \" + tf.__version__)\r\n",
        "\r\n",
        "# Tuning the ANN\r\n",
        "from tensorflow.keras.wrappers.scikit_learn import KerasClassifier\r\n",
        "from tensorflow.keras.models import Sequential\r\n",
        "from tensorflow.keras.layers import Dense\r\n",
        "from tensorflow.keras.layers import Dropout\r\n",
        "from tensorflow.keras.callbacks import ModelCheckpoint\r\n",
        "from sklearn.model_selection import GridSearchCV\r\n",
        "\r\n",
        "def build_classifier(optimizer):\r\n",
        "    classifier = Sequential()\r\n",
        "    classifier.add(Dense(units = 6, kernel_initializer = 'uniform', activation = 'relu', input_dim = 11))\r\n",
        "    classifier.add(Dropout(rate = 0.1))\r\n",
        "    classifier.add(Dense(units = 6, kernel_initializer = 'uniform', activation = 'relu'))\r\n",
        "    classifier.add(Dropout(rate = 0.1))\r\n",
        "    classifier.add(Dense(units = 1, kernel_initializer = 'uniform', activation = 'sigmoid'))\r\n",
        "    # load weights\r\n",
        "    # model.load_weights(\"weights.best.hdf5\")\r\n",
        "    classifier.compile(optimizer = optimizer, loss = 'binary_crossentropy', metrics = ['accuracy'])\r\n",
        "    return classifier\r\n",
        "\r\n",
        "classifier = KerasClassifier(build_fn = build_classifier)\r\n",
        "\r\n",
        "parameters = {'batch_size': [25, 32],\r\n",
        "              'epochs': [100, 500],\r\n",
        "              'optimizer': ['adam', 'rmsprop']}\r\n",
        "\r\n",
        "grid_search = GridSearchCV(estimator = classifier,\r\n",
        "                           param_grid = parameters,\r\n",
        "                           scoring = 'accuracy',\r\n",
        "                           cv = 10,\r\n",
        "                           n_jobs=-1)\r\n",
        "\r\n",
        "filepath=\"weights.best.hdf5\"\r\n",
        "checkpoint = ModelCheckpoint(filepath, monitor='acc', verbose=1, save_best_only=True, mode='max')\r\n",
        "callbacks_list = [checkpoint]\r\n",
        "\r\n",
        "grid_search = grid_search.fit(X_train, y_train, callbacks=callbacks_list, verbose=0)\r\n",
        "\r\n",
        "best_parameters = grid_search.best_params_\r\n",
        "best_accuracy = grid_search.best_score_"
      ],
      "execution_count": null,
      "outputs": []
    },
    {
      "cell_type": "code",
      "metadata": {
        "id": "lG_dFIl8a-rt"
      },
      "source": [
        "# Part 3 - Making the predictions and evaluating the model\r\n",
        "\r\n",
        "# Predicting the Test set results\r\n",
        "y_pred = grid_search.predict(X_test)\r\n",
        "y_pred = (y_pred > 0.5)\r\n",
        "\r\n",
        "# Making the Confusion Matrix\r\n",
        "from sklearn.metrics import confusion_matrix\r\n",
        "cm = confusion_matrix(y_test, y_pred)\r\n",
        "\r\n",
        "# Predicting a single new observation\r\n",
        "\"\"\"Predict if the customer with the following informations will leave the bank:\r\n",
        "Geography: France\r\n",
        "Credit Score: 600\r\n",
        "Gender: Male\r\n",
        "Age: 40\r\n",
        "Tenure: 3\r\n",
        "Balance: 60000\r\n",
        "Number of Products: 2\r\n",
        "Has Credit Card: Yes\r\n",
        "Is Active Member: Yes\r\n",
        "Estimated Salary: 50000\"\"\""
      ],
      "execution_count": null,
      "outputs": []
    },
    {
      "cell_type": "code",
      "metadata": {
        "id": "uPkxuphAa-vR"
      },
      "source": [
        "new_prediction = grid_search.predict(sc.transform(np.array([[0.0, 0, 600, 1, 40, 3, 60000, 2, 1, 1, 50000]])))\r\n",
        "new_prediction = (new_prediction > 0.5)"
      ],
      "execution_count": null,
      "outputs": []
    }
  ]
}