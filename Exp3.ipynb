{
  "nbformat": 4,
  "nbformat_minor": 0,
  "metadata": {
    "colab": {
      "name": "Exp3.ipynb",
      "provenance": [],
      "collapsed_sections": []
    },
    "kernelspec": {
      "name": "python3",
      "display_name": "Python 3"
    },
    "accelerator": "GPU"
  },
  "cells": [
    {
      "cell_type": "markdown",
      "metadata": {
        "id": "iCj2rwwHBB1I"
      },
      "source": [
        "\n",
        "- In this project, we will build a simple machine learning model to convert from celsius to fahrenheit. \n",
        "- The equation is as follows: **T(°F) = T(°C) × 9/5 + 32**\n",
        "\n"
      ]
    },
    {
      "cell_type": "code",
      "metadata": {
        "id": "S0Cx3743urFY"
      },
      "source": [
        "import tensorflow as tf\n",
        "import pandas as pd\n",
        "import numpy as np\n",
        "import seaborn as sns\n",
        "import matplotlib.pyplot as plt"
      ],
      "execution_count": null,
      "outputs": []
    },
    {
      "cell_type": "code",
      "metadata": {
        "id": "5P_ciLXawMZg",
        "colab": {
          "base_uri": "https://localhost:8080/"
        },
        "outputId": "e3aefe8f-aa57-475e-da55-d8466d085473"
      },
      "source": [
        "# You will need to mount your drive using the following commands:\n",
        "# For more information regarding mounting, please check this out: https://stackoverflow.com/questions/46986398/import-data-into-google-colaboratory\n",
        "\n",
        "from google.colab import drive\n",
        "drive.mount('/content/drive')"
      ],
      "execution_count": null,
      "outputs": [
        {
          "output_type": "stream",
          "text": [
            "Mounted at /content/drive\n"
          ],
          "name": "stdout"
        }
      ]
    },
    {
      "cell_type": "code",
      "metadata": {
        "id": "tjIiJdM4u1IE",
        "colab": {
          "resources": {
            "http://localhost:8080/nbextensions/google.colab/files.js": {
              "data": "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",
              "ok": true,
              "headers": [
                [
                  "content-type",
                  "application/javascript"
                ]
              ],
              "status": 200,
              "status_text": ""
            }
          },
          "base_uri": "https://localhost:8080/",
          "height": 74
        },
        "outputId": "f085e0d9-2e01-4ff7-c7b3-e61fdf31b6fa"
      },
      "source": [
        "from google.colab import files\n",
        "uploaded=files.upload()"
      ],
      "execution_count": null,
      "outputs": [
        {
          "output_type": "display_data",
          "data": {
            "text/html": [
              "\n",
              "     <input type=\"file\" id=\"files-74d0ff78-1d49-47b2-b20e-a8de3ed3e5a1\" name=\"files[]\" multiple disabled\n",
              "        style=\"border:none\" />\n",
              "     <output id=\"result-74d0ff78-1d49-47b2-b20e-a8de3ed3e5a1\">\n",
              "      Upload widget is only available when the cell has been executed in the\n",
              "      current browser session. Please rerun this cell to enable.\n",
              "      </output>\n",
              "      <script src=\"/nbextensions/google.colab/files.js\"></script> "
            ],
            "text/plain": [
              "<IPython.core.display.HTML object>"
            ]
          },
          "metadata": {
            "tags": []
          }
        },
        {
          "output_type": "stream",
          "text": [
            "Saving Celsius to Fahrenheit.csv to Celsius to Fahrenheit.csv\n"
          ],
          "name": "stdout"
        }
      ]
    },
    {
      "cell_type": "code",
      "metadata": {
        "id": "ucAaqH5mAoo7"
      },
      "source": [
        "data=pd.read_csv(\"Celsius to Fahrenheit.csv\")"
      ],
      "execution_count": null,
      "outputs": []
    },
    {
      "cell_type": "code",
      "metadata": {
        "id": "q4_wPDKCu5Uc",
        "colab": {
          "base_uri": "https://localhost:8080/",
          "height": 198
        },
        "outputId": "82e5a907-7467-42b9-c11c-1b45af193412"
      },
      "source": [
        "data.head()"
      ],
      "execution_count": null,
      "outputs": [
        {
          "output_type": "execute_result",
          "data": {
            "text/html": [
              "<div>\n",
              "<style scoped>\n",
              "    .dataframe tbody tr th:only-of-type {\n",
              "        vertical-align: middle;\n",
              "    }\n",
              "\n",
              "    .dataframe tbody tr th {\n",
              "        vertical-align: top;\n",
              "    }\n",
              "\n",
              "    .dataframe thead th {\n",
              "        text-align: right;\n",
              "    }\n",
              "</style>\n",
              "<table border=\"1\" class=\"dataframe\">\n",
              "  <thead>\n",
              "    <tr style=\"text-align: right;\">\n",
              "      <th></th>\n",
              "      <th>Celsius</th>\n",
              "      <th>Fahrenheit</th>\n",
              "    </tr>\n",
              "  </thead>\n",
              "  <tbody>\n",
              "    <tr>\n",
              "      <th>0</th>\n",
              "      <td>-50</td>\n",
              "      <td>-58.0</td>\n",
              "    </tr>\n",
              "    <tr>\n",
              "      <th>1</th>\n",
              "      <td>-40</td>\n",
              "      <td>-40.0</td>\n",
              "    </tr>\n",
              "    <tr>\n",
              "      <th>2</th>\n",
              "      <td>-30</td>\n",
              "      <td>-22.0</td>\n",
              "    </tr>\n",
              "    <tr>\n",
              "      <th>3</th>\n",
              "      <td>-20</td>\n",
              "      <td>-4.0</td>\n",
              "    </tr>\n",
              "    <tr>\n",
              "      <th>4</th>\n",
              "      <td>-10</td>\n",
              "      <td>14.0</td>\n",
              "    </tr>\n",
              "  </tbody>\n",
              "</table>\n",
              "</div>"
            ],
            "text/plain": [
              "   Celsius  Fahrenheit\n",
              "0      -50       -58.0\n",
              "1      -40       -40.0\n",
              "2      -30       -22.0\n",
              "3      -20        -4.0\n",
              "4      -10        14.0"
            ]
          },
          "metadata": {
            "tags": []
          },
          "execution_count": 10
        }
      ]
    },
    {
      "cell_type": "code",
      "metadata": {
        "id": "hMq3-KWOx0e1",
        "colab": {
          "base_uri": "https://localhost:8080/"
        },
        "outputId": "e7c6cf64-876c-4d6d-ab50-ba076b7e9bb4"
      },
      "source": [
        "data.info()"
      ],
      "execution_count": null,
      "outputs": [
        {
          "output_type": "stream",
          "text": [
            "<class 'pandas.core.frame.DataFrame'>\n",
            "RangeIndex: 30 entries, 0 to 29\n",
            "Data columns (total 2 columns):\n",
            " #   Column      Non-Null Count  Dtype  \n",
            "---  ------      --------------  -----  \n",
            " 0   Celsius     30 non-null     int64  \n",
            " 1   Fahrenheit  30 non-null     float64\n",
            "dtypes: float64(1), int64(1)\n",
            "memory usage: 608.0 bytes\n"
          ],
          "name": "stdout"
        }
      ]
    },
    {
      "cell_type": "code",
      "metadata": {
        "id": "s0E9xPLdx2Ok",
        "colab": {
          "base_uri": "https://localhost:8080/",
          "height": 288
        },
        "outputId": "c9a5e98b-eaa3-4cce-b757-49d8887579d8"
      },
      "source": [
        "data.describe()"
      ],
      "execution_count": null,
      "outputs": [
        {
          "output_type": "execute_result",
          "data": {
            "text/html": [
              "<div>\n",
              "<style scoped>\n",
              "    .dataframe tbody tr th:only-of-type {\n",
              "        vertical-align: middle;\n",
              "    }\n",
              "\n",
              "    .dataframe tbody tr th {\n",
              "        vertical-align: top;\n",
              "    }\n",
              "\n",
              "    .dataframe thead th {\n",
              "        text-align: right;\n",
              "    }\n",
              "</style>\n",
              "<table border=\"1\" class=\"dataframe\">\n",
              "  <thead>\n",
              "    <tr style=\"text-align: right;\">\n",
              "      <th></th>\n",
              "      <th>Celsius</th>\n",
              "      <th>Fahrenheit</th>\n",
              "    </tr>\n",
              "  </thead>\n",
              "  <tbody>\n",
              "    <tr>\n",
              "      <th>count</th>\n",
              "      <td>30.000000</td>\n",
              "      <td>30.000000</td>\n",
              "    </tr>\n",
              "    <tr>\n",
              "      <th>mean</th>\n",
              "      <td>2.000000</td>\n",
              "      <td>35.600000</td>\n",
              "    </tr>\n",
              "    <tr>\n",
              "      <th>std</th>\n",
              "      <td>22.780815</td>\n",
              "      <td>41.005466</td>\n",
              "    </tr>\n",
              "    <tr>\n",
              "      <th>min</th>\n",
              "      <td>-50.000000</td>\n",
              "      <td>-58.000000</td>\n",
              "    </tr>\n",
              "    <tr>\n",
              "      <th>25%</th>\n",
              "      <td>-6.750000</td>\n",
              "      <td>19.850000</td>\n",
              "    </tr>\n",
              "    <tr>\n",
              "      <th>50%</th>\n",
              "      <td>0.500000</td>\n",
              "      <td>32.900000</td>\n",
              "    </tr>\n",
              "    <tr>\n",
              "      <th>75%</th>\n",
              "      <td>7.750000</td>\n",
              "      <td>45.950000</td>\n",
              "    </tr>\n",
              "    <tr>\n",
              "      <th>max</th>\n",
              "      <td>60.000000</td>\n",
              "      <td>140.000000</td>\n",
              "    </tr>\n",
              "  </tbody>\n",
              "</table>\n",
              "</div>"
            ],
            "text/plain": [
              "         Celsius  Fahrenheit\n",
              "count  30.000000   30.000000\n",
              "mean    2.000000   35.600000\n",
              "std    22.780815   41.005466\n",
              "min   -50.000000  -58.000000\n",
              "25%    -6.750000   19.850000\n",
              "50%     0.500000   32.900000\n",
              "75%     7.750000   45.950000\n",
              "max    60.000000  140.000000"
            ]
          },
          "metadata": {
            "tags": []
          },
          "execution_count": 12
        }
      ]
    },
    {
      "cell_type": "markdown",
      "metadata": {
        "id": "LlszUhNNyrl_"
      },
      "source": [
        "###  STEP 2: VISUALIZE DATASET"
      ]
    },
    {
      "cell_type": "code",
      "metadata": {
        "id": "TYcWopZVyvAs",
        "colab": {
          "base_uri": "https://localhost:8080/",
          "height": 355
        },
        "outputId": "2926bf17-c9f7-4fc4-e9b7-b8b6b47af838"
      },
      "source": [
        "sns.scatterplot(data['Celsius'], data['Fahrenheit'])"
      ],
      "execution_count": null,
      "outputs": [
        {
          "output_type": "stream",
          "text": [
            "/usr/local/lib/python3.7/dist-packages/seaborn/_decorators.py:43: FutureWarning: Pass the following variables as keyword args: x, y. From version 0.12, the only valid positional argument will be `data`, and passing other arguments without an explicit keyword will result in an error or misinterpretation.\n",
            "  FutureWarning\n"
          ],
          "name": "stderr"
        },
        {
          "output_type": "execute_result",
          "data": {
            "text/plain": [
              "<matplotlib.axes._subplots.AxesSubplot at 0x7ff96028dc90>"
            ]
          },
          "metadata": {
            "tags": []
          },
          "execution_count": 13
        },
        {
          "output_type": "display_data",
          "data": {
            "image/png": "[encoded data removed]",
            "text/plain": [
              "<Figure size 432x288 with 1 Axes>"
            ]
          },
          "metadata": {
            "tags": [],
            "needs_background": "light"
          }
        }
      ]
    },
    {
      "cell_type": "code",
      "metadata": {
        "id": "0-maV8hb9rYM"
      },
      "source": [
        "X_train = data['Celsius']\n",
        "y_train = data['Fahrenheit']"
      ],
      "execution_count": null,
      "outputs": []
    },
    {
      "cell_type": "markdown",
      "metadata": {
        "id": "53qDZFRn3-S1"
      },
      "source": [
        " STEP4: BUILD AND TRAIN THE MODEL"
      ]
    },
    {
      "cell_type": "code",
      "metadata": {
        "id": "DqIp8uvJ3cGi",
        "colab": {
          "base_uri": "https://localhost:8080/"
        },
        "outputId": "4e7d8f6b-6d1d-4b50-9f81-5735e313791d"
      },
      "source": [
        "X_train.shape"
      ],
      "execution_count": null,
      "outputs": [
        {
          "output_type": "execute_result",
          "data": {
            "text/plain": [
              "(30,)"
            ]
          },
          "metadata": {
            "tags": []
          },
          "execution_count": 15
        }
      ]
    },
    {
      "cell_type": "code",
      "metadata": {
        "id": "d4wfApza3cEc",
        "colab": {
          "base_uri": "https://localhost:8080/"
        },
        "outputId": "59d2f562-c465-40b7-f229-15ca00f1cece"
      },
      "source": [
        "y_train.shape"
      ],
      "execution_count": null,
      "outputs": [
        {
          "output_type": "execute_result",
          "data": {
            "text/plain": [
              "(30,)"
            ]
          },
          "metadata": {
            "tags": []
          },
          "execution_count": 16
        }
      ]
    },
    {
      "cell_type": "code",
      "metadata": {
        "id": "Yl6fmPJj3cCX"
      },
      "source": [
        "model = tf.keras.Sequential()\n",
        "model.add(tf.keras.layers.Dense(units=1, input_shape=[1]))"
      ],
      "execution_count": null,
      "outputs": []
    },
    {
      "cell_type": "code",
      "metadata": {
        "id": "GUd71odB4v-i",
        "colab": {
          "base_uri": "https://localhost:8080/"
        },
        "outputId": "48f91359-da30-4800-e7d7-4b88a2ceacea"
      },
      "source": [
        "model.summary()"
      ],
      "execution_count": null,
      "outputs": [
        {
          "output_type": "stream",
          "text": [
            "Model: \"sequential_1\"\n",
            "_________________________________________________________________\n",
            "Layer (type)                 Output Shape              Param #   \n",
            "=================================================================\n",
            "dense_1 (Dense)              (None, 1)                 2         \n",
            "=================================================================\n",
            "Total params: 2\n",
            "Trainable params: 2\n",
            "Non-trainable params: 0\n",
            "_________________________________________________________________\n"
          ],
          "name": "stdout"
        }
      ]
    },
    {
      "cell_type": "code",
      "metadata": {
        "id": "BYmvNpNw5Act"
      },
      "source": [
        "model.compile(optimizer=tf.keras.optimizers.Adam(0.5), loss='mean_squared_error')"
      ],
      "execution_count": null,
      "outputs": []
    },
    {
      "cell_type": "code",
      "metadata": {
        "id": "tpia0VBS5Ljw",
        "colab": {
          "base_uri": "https://localhost:8080/"
        },
        "outputId": "657b4f6e-0461-4ee3-cd0d-55dd86893bc5"
      },
      "source": [
        "epochs_hist = model.fit(X_train, y_train, epochs = 200)"
      ],
      "execution_count": null,
      "outputs": [
        {
          "output_type": "stream",
          "text": [
            "Epoch 1/200\n",
            "1/1 [==============================] - 3s 3s/step - loss: 1526.8893\n",
            "Epoch 2/200\n",
            "1/1 [==============================] - 0s 3ms/step - loss: 1112.4690\n",
            "Epoch 3/200\n",
            "1/1 [==============================] - 0s 4ms/step - loss: 954.0641\n",
            "Epoch 4/200\n",
            "1/1 [==============================] - 0s 4ms/step - loss: 980.4900\n",
            "Epoch 5/200\n",
            "1/1 [==============================] - 0s 4ms/step - loss: 1043.9380\n",
            "Epoch 6/200\n",
            "1/1 [==============================] - 0s 4ms/step - loss: 1040.7828\n",
            "Epoch 7/200\n",
            "1/1 [==============================] - 0s 3ms/step - loss: 971.3583\n",
            "Epoch 8/200\n",
            "1/1 [==============================] - 0s 4ms/step - loss: 877.4453\n",
            "Epoch 9/200\n",
            "1/1 [==============================] - 0s 4ms/step - loss: 797.6910\n",
            "Epoch 10/200\n",
            "1/1 [==============================] - 0s 4ms/step - loss: 752.7307\n",
            "Epoch 11/200\n",
            "1/1 [==============================] - 0s 4ms/step - loss: 741.3810\n",
            "Epoch 12/200\n",
            "1/1 [==============================] - 0s 4ms/step - loss: 745.1303\n",
            "Epoch 13/200\n",
            "1/1 [==============================] - 0s 4ms/step - loss: 741.4875\n",
            "Epoch 14/200\n",
            "1/1 [==============================] - 0s 4ms/step - loss: 717.9578\n",
            "Epoch 15/200\n",
            "1/1 [==============================] - 0s 5ms/step - loss: 676.3605\n",
            "Epoch 16/200\n",
            "1/1 [==============================] - 0s 3ms/step - loss: 627.8098\n",
            "Epoch 17/200\n",
            "1/1 [==============================] - 0s 3ms/step - loss: 584.9010\n",
            "Epoch 18/200\n",
            "1/1 [==============================] - 0s 4ms/step - loss: 555.4594\n",
            "Epoch 19/200\n",
            "1/1 [==============================] - 0s 3ms/step - loss: 539.5570\n",
            "Epoch 20/200\n",
            "1/1 [==============================] - 0s 5ms/step - loss: 530.5642\n",
            "Epoch 21/200\n",
            "1/1 [==============================] - 0s 4ms/step - loss: 519.6548\n",
            "Epoch 22/200\n",
            "1/1 [==============================] - 0s 8ms/step - loss: 501.0049\n",
            "Epoch 23/200\n",
            "1/1 [==============================] - 0s 4ms/step - loss: 474.4174\n",
            "Epoch 24/200\n",
            "1/1 [==============================] - 0s 4ms/step - loss: 444.3339\n",
            "Epoch 25/200\n",
            "1/1 [==============================] - 0s 4ms/step - loss: 416.6334\n",
            "Epoch 26/200\n",
            "1/1 [==============================] - 0s 6ms/step - loss: 395.3078\n",
            "Epoch 27/200\n",
            "1/1 [==============================] - 0s 3ms/step - loss: 380.6118\n",
            "Epoch 28/200\n",
            "1/1 [==============================] - 0s 7ms/step - loss: 369.4376\n",
            "Epoch 29/200\n",
            "1/1 [==============================] - 0s 8ms/step - loss: 357.5340\n",
            "Epoch 30/200\n",
            "1/1 [==============================] - 0s 4ms/step - loss: 342.1120\n",
            "Epoch 31/200\n",
            "1/1 [==============================] - 0s 3ms/step - loss: 323.2139\n",
            "Epoch 32/200\n",
            "1/1 [==============================] - 0s 4ms/step - loss: 303.2168\n",
            "Epoch 33/200\n",
            "1/1 [==============================] - 0s 4ms/step - loss: 285.0807\n",
            "Epoch 34/200\n",
            "1/1 [==============================] - 0s 4ms/step - loss: 270.5363\n",
            "Epoch 35/200\n",
            "1/1 [==============================] - 0s 4ms/step - loss: 259.2394\n",
            "Epoch 36/200\n",
            "1/1 [==============================] - 0s 6ms/step - loss: 249.2680\n",
            "Epoch 37/200\n",
            "1/1 [==============================] - 0s 3ms/step - loss: 238.5168\n",
            "Epoch 38/200\n",
            "1/1 [==============================] - 0s 4ms/step - loss: 226.0162\n",
            "Epoch 39/200\n",
            "1/1 [==============================] - 0s 4ms/step - loss: 212.3493\n",
            "Epoch 40/200\n",
            "1/1 [==============================] - 0s 4ms/step - loss: 199.0367\n",
            "Epoch 41/200\n",
            "1/1 [==============================] - 0s 4ms/step - loss: 187.4293\n",
            "Epoch 42/200\n",
            "1/1 [==============================] - 0s 4ms/step - loss: 177.8700\n",
            "Epoch 43/200\n",
            "1/1 [==============================] - 0s 5ms/step - loss: 169.6153\n",
            "Epoch 44/200\n",
            "1/1 [==============================] - 0s 3ms/step - loss: 161.4747\n",
            "Epoch 45/200\n",
            "1/1 [==============================] - 0s 4ms/step - loss: 152.6551\n",
            "Epoch 46/200\n",
            "1/1 [==============================] - 0s 5ms/step - loss: 143.2187\n",
            "Epoch 47/200\n",
            "1/1 [==============================] - 0s 5ms/step - loss: 133.8991\n",
            "Epoch 48/200\n",
            "1/1 [==============================] - 0s 5ms/step - loss: 125.4938\n",
            "Epoch 49/200\n",
            "1/1 [==============================] - 0s 4ms/step - loss: 118.3030\n",
            "Epoch 50/200\n",
            "1/1 [==============================] - 0s 13ms/step - loss: 111.9916\n",
            "Epoch 51/200\n",
            "1/1 [==============================] - 0s 5ms/step - loss: 105.9115\n",
            "Epoch 52/200\n",
            "1/1 [==============================] - 0s 5ms/step - loss: 99.5975\n",
            "Epoch 53/200\n",
            "1/1 [==============================] - 0s 4ms/step - loss: 93.0594\n",
            "Epoch 54/200\n",
            "1/1 [==============================] - 0s 7ms/step - loss: 86.6918\n",
            "Epoch 55/200\n",
            "1/1 [==============================] - 0s 5ms/step - loss: 80.9213\n",
            "Epoch 56/200\n",
            "1/1 [==============================] - 0s 7ms/step - loss: 75.8841\n",
            "Epoch 57/200\n",
            "1/1 [==============================] - 0s 4ms/step - loss: 71.3644\n",
            "Epoch 58/200\n",
            "1/1 [==============================] - 0s 5ms/step - loss: 67.0010\n",
            "Epoch 59/200\n",
            "1/1 [==============================] - 0s 7ms/step - loss: 62.5718\n",
            "Epoch 60/200\n",
            "1/1 [==============================] - 0s 6ms/step - loss: 58.1302\n",
            "Epoch 61/200\n",
            "1/1 [==============================] - 0s 5ms/step - loss: 53.9128\n",
            "Epoch 62/200\n",
            "1/1 [==============================] - 0s 5ms/step - loss: 50.1221\n",
            "Epoch 63/200\n",
            "1/1 [==============================] - 0s 5ms/step - loss: 46.7690\n",
            "Epoch 64/200\n",
            "1/1 [==============================] - 0s 6ms/step - loss: 43.6880\n",
            "Epoch 65/200\n",
            "1/1 [==============================] - 0s 3ms/step - loss: 40.6870\n",
            "Epoch 66/200\n",
            "1/1 [==============================] - 0s 4ms/step - loss: 37.6959\n",
            "Epoch 67/200\n",
            "1/1 [==============================] - 0s 3ms/step - loss: 34.7947\n",
            "Epoch 68/200\n",
            "1/1 [==============================] - 0s 4ms/step - loss: 32.1186\n",
            "Epoch 69/200\n",
            "1/1 [==============================] - 0s 6ms/step - loss: 29.7338\n",
            "Epoch 70/200\n",
            "1/1 [==============================] - 0s 4ms/step - loss: 27.5887\n",
            "Epoch 71/200\n",
            "1/1 [==============================] - 0s 4ms/step - loss: 25.5688\n",
            "Epoch 72/200\n",
            "1/1 [==============================] - 0s 5ms/step - loss: 23.5946\n",
            "Epoch 73/200\n",
            "1/1 [==============================] - 0s 8ms/step - loss: 21.6751\n",
            "Epoch 74/200\n",
            "1/1 [==============================] - 0s 5ms/step - loss: 19.8802\n",
            "Epoch 75/200\n",
            "1/1 [==============================] - 0s 4ms/step - loss: 18.2660\n",
            "Epoch 76/200\n",
            "1/1 [==============================] - 0s 4ms/step - loss: 16.8246\n",
            "Epoch 77/200\n",
            "1/1 [==============================] - 0s 10ms/step - loss: 15.4959\n",
            "Epoch 78/200\n",
            "1/1 [==============================] - 0s 3ms/step - loss: 14.2222\n",
            "Epoch 79/200\n",
            "1/1 [==============================] - 0s 4ms/step - loss: 12.9923\n",
            "Epoch 80/200\n",
            "1/1 [==============================] - 0s 4ms/step - loss: 11.8383\n",
            "Epoch 81/200\n",
            "1/1 [==============================] - 0s 4ms/step - loss: 10.7961\n",
            "Epoch 82/200\n",
            "1/1 [==============================] - 0s 3ms/step - loss: 9.8686\n",
            "Epoch 83/200\n",
            "1/1 [==============================] - 0s 4ms/step - loss: 9.0245\n",
            "Epoch 84/200\n",
            "1/1 [==============================] - 0s 3ms/step - loss: 8.2274\n",
            "Epoch 85/200\n",
            "1/1 [==============================] - 0s 4ms/step - loss: 7.4651\n",
            "Epoch 86/200\n",
            "1/1 [==============================] - 0s 3ms/step - loss: 6.7524\n",
            "Epoch 87/200\n",
            "1/1 [==============================] - 0s 4ms/step - loss: 6.1097\n",
            "Epoch 88/200\n",
            "1/1 [==============================] - 0s 4ms/step - loss: 5.5400\n",
            "Epoch 89/200\n",
            "1/1 [==============================] - 0s 3ms/step - loss: 5.0259\n",
            "Epoch 90/200\n",
            "1/1 [==============================] - 0s 4ms/step - loss: 4.5455\n",
            "Epoch 91/200\n",
            "1/1 [==============================] - 0s 5ms/step - loss: 4.0905\n",
            "Epoch 92/200\n",
            "1/1 [==============================] - 0s 3ms/step - loss: 3.6686\n",
            "Epoch 93/200\n",
            "1/1 [==============================] - 0s 3ms/step - loss: 3.2907\n",
            "Epoch 94/200\n",
            "1/1 [==============================] - 0s 4ms/step - loss: 2.9578\n",
            "Epoch 95/200\n",
            "1/1 [==============================] - 0s 3ms/step - loss: 2.6592\n",
            "Epoch 96/200\n",
            "1/1 [==============================] - 0s 4ms/step - loss: 2.3822\n",
            "Epoch 97/200\n",
            "1/1 [==============================] - 0s 4ms/step - loss: 2.1223\n",
            "Epoch 98/200\n",
            "1/1 [==============================] - 0s 4ms/step - loss: 1.8842\n",
            "Epoch 99/200\n",
            "1/1 [==============================] - 0s 4ms/step - loss: 1.6734\n",
            "Epoch 100/200\n",
            "1/1 [==============================] - 0s 3ms/step - loss: 1.4892\n",
            "Epoch 101/200\n",
            "1/1 [==============================] - 0s 6ms/step - loss: 1.3247\n",
            "Epoch 102/200\n",
            "1/1 [==============================] - 0s 7ms/step - loss: 1.1729\n",
            "Epoch 103/200\n",
            "1/1 [==============================] - 0s 14ms/step - loss: 1.0319\n",
            "Epoch 104/200\n",
            "1/1 [==============================] - 0s 6ms/step - loss: 0.9048\n",
            "Epoch 105/200\n",
            "1/1 [==============================] - 0s 10ms/step - loss: 0.7942\n",
            "Epoch 106/200\n",
            "1/1 [==============================] - 0s 3ms/step - loss: 0.6985\n",
            "Epoch 107/200\n",
            "1/1 [==============================] - 0s 4ms/step - loss: 0.6132\n",
            "Epoch 108/200\n",
            "1/1 [==============================] - 0s 3ms/step - loss: 0.5347\n",
            "Epoch 109/200\n",
            "1/1 [==============================] - 0s 3ms/step - loss: 0.4629\n",
            "Epoch 110/200\n",
            "1/1 [==============================] - 0s 3ms/step - loss: 0.3996\n",
            "Epoch 111/200\n",
            "1/1 [==============================] - 0s 4ms/step - loss: 0.3457\n",
            "Epoch 112/200\n",
            "1/1 [==============================] - 0s 5ms/step - loss: 0.2995\n",
            "Epoch 113/200\n",
            "1/1 [==============================] - 0s 5ms/step - loss: 0.2583\n",
            "Epoch 114/200\n",
            "1/1 [==============================] - 0s 5ms/step - loss: 0.2205\n",
            "Epoch 115/200\n",
            "1/1 [==============================] - 0s 5ms/step - loss: 0.1867\n",
            "Epoch 116/200\n",
            "1/1 [==============================] - 0s 4ms/step - loss: 0.1579\n",
            "Epoch 117/200\n",
            "1/1 [==============================] - 0s 4ms/step - loss: 0.1340\n",
            "Epoch 118/200\n",
            "1/1 [==============================] - 0s 3ms/step - loss: 0.1137\n",
            "Epoch 119/200\n",
            "1/1 [==============================] - 0s 4ms/step - loss: 0.0954\n",
            "Epoch 120/200\n",
            "1/1 [==============================] - 0s 3ms/step - loss: 0.0789\n",
            "Epoch 121/200\n",
            "1/1 [==============================] - 0s 3ms/step - loss: 0.0647\n",
            "Epoch 122/200\n",
            "1/1 [==============================] - 0s 5ms/step - loss: 0.0531\n",
            "Epoch 123/200\n",
            "1/1 [==============================] - 0s 5ms/step - loss: 0.0439\n",
            "Epoch 124/200\n",
            "1/1 [==============================] - 0s 3ms/step - loss: 0.0359\n",
            "Epoch 125/200\n",
            "1/1 [==============================] - 0s 4ms/step - loss: 0.0287\n",
            "Epoch 126/200\n",
            "1/1 [==============================] - 0s 4ms/step - loss: 0.0224\n",
            "Epoch 127/200\n",
            "1/1 [==============================] - 0s 10ms/step - loss: 0.0174\n",
            "Epoch 128/200\n",
            "1/1 [==============================] - 0s 5ms/step - loss: 0.0137\n",
            "Epoch 129/200\n",
            "1/1 [==============================] - 0s 9ms/step - loss: 0.0107\n",
            "Epoch 130/200\n",
            "1/1 [==============================] - 0s 5ms/step - loss: 0.0081\n",
            "Epoch 131/200\n",
            "1/1 [==============================] - 0s 5ms/step - loss: 0.0058\n",
            "Epoch 132/200\n",
            "1/1 [==============================] - 0s 5ms/step - loss: 0.0039\n",
            "Epoch 133/200\n",
            "1/1 [==============================] - 0s 5ms/step - loss: 0.0027\n",
            "Epoch 134/200\n",
            "1/1 [==============================] - 0s 4ms/step - loss: 0.0020\n",
            "Epoch 135/200\n",
            "1/1 [==============================] - 0s 4ms/step - loss: 0.0014\n",
            "Epoch 136/200\n",
            "1/1 [==============================] - 0s 4ms/step - loss: 7.7228e-04\n",
            "Epoch 137/200\n",
            "1/1 [==============================] - 0s 5ms/step - loss: 3.0218e-04\n",
            "Epoch 138/200\n",
            "1/1 [==============================] - 0s 4ms/step - loss: 9.0663e-05\n",
            "Epoch 139/200\n",
            "1/1 [==============================] - 0s 19ms/step - loss: 1.0819e-04\n",
            "Epoch 140/200\n",
            "1/1 [==============================] - 0s 9ms/step - loss: 1.8827e-04\n",
            "Epoch 141/200\n",
            "1/1 [==============================] - 0s 7ms/step - loss: 2.1321e-04\n",
            "Epoch 142/200\n",
            "1/1 [==============================] - 0s 3ms/step - loss: 2.1651e-04\n",
            "Epoch 143/200\n",
            "1/1 [==============================] - 0s 5ms/step - loss: 2.9798e-04\n",
            "Epoch 144/200\n",
            "1/1 [==============================] - 0s 3ms/step - loss: 4.8109e-04\n",
            "Epoch 145/200\n",
            "1/1 [==============================] - 0s 3ms/step - loss: 6.8628e-04\n",
            "Epoch 146/200\n",
            "1/1 [==============================] - 0s 3ms/step - loss: 8.3085e-04\n",
            "Epoch 147/200\n",
            "1/1 [==============================] - 0s 3ms/step - loss: 9.1741e-04\n",
            "Epoch 148/200\n",
            "1/1 [==============================] - 0s 3ms/step - loss: 0.0010\n",
            "Epoch 149/200\n",
            "1/1 [==============================] - 0s 3ms/step - loss: 0.0011\n",
            "Epoch 150/200\n",
            "1/1 [==============================] - 0s 3ms/step - loss: 0.0013\n",
            "Epoch 151/200\n",
            "1/1 [==============================] - 0s 3ms/step - loss: 0.0014\n",
            "Epoch 152/200\n",
            "1/1 [==============================] - 0s 6ms/step - loss: 0.0014\n",
            "Epoch 153/200\n",
            "1/1 [==============================] - 0s 5ms/step - loss: 0.0014\n",
            "Epoch 154/200\n",
            "1/1 [==============================] - 0s 6ms/step - loss: 0.0015\n",
            "Epoch 155/200\n",
            "1/1 [==============================] - 0s 5ms/step - loss: 0.0015\n",
            "Epoch 156/200\n",
            "1/1 [==============================] - 0s 8ms/step - loss: 0.0015\n",
            "Epoch 157/200\n",
            "1/1 [==============================] - 0s 4ms/step - loss: 0.0015\n",
            "Epoch 158/200\n",
            "1/1 [==============================] - 0s 4ms/step - loss: 0.0015\n",
            "Epoch 159/200\n",
            "1/1 [==============================] - 0s 3ms/step - loss: 0.0015\n",
            "Epoch 160/200\n",
            "1/1 [==============================] - 0s 5ms/step - loss: 0.0014\n",
            "Epoch 161/200\n",
            "1/1 [==============================] - 0s 4ms/step - loss: 0.0014\n",
            "Epoch 162/200\n",
            "1/1 [==============================] - 0s 5ms/step - loss: 0.0013\n",
            "Epoch 163/200\n",
            "1/1 [==============================] - 0s 5ms/step - loss: 0.0013\n",
            "Epoch 164/200\n",
            "1/1 [==============================] - 0s 4ms/step - loss: 0.0012\n",
            "Epoch 165/200\n",
            "1/1 [==============================] - 0s 4ms/step - loss: 0.0011\n",
            "Epoch 166/200\n",
            "1/1 [==============================] - 0s 4ms/step - loss: 0.0011\n",
            "Epoch 167/200\n",
            "1/1 [==============================] - 0s 4ms/step - loss: 0.0010\n",
            "Epoch 168/200\n",
            "1/1 [==============================] - 0s 5ms/step - loss: 9.4681e-04\n",
            "Epoch 169/200\n",
            "1/1 [==============================] - 0s 5ms/step - loss: 8.8061e-04\n",
            "Epoch 170/200\n",
            "1/1 [==============================] - 0s 3ms/step - loss: 8.2082e-04\n",
            "Epoch 171/200\n",
            "1/1 [==============================] - 0s 6ms/step - loss: 7.6100e-04\n",
            "Epoch 172/200\n",
            "1/1 [==============================] - 0s 3ms/step - loss: 6.9805e-04\n",
            "Epoch 173/200\n",
            "1/1 [==============================] - 0s 4ms/step - loss: 6.3578e-04\n",
            "Epoch 174/200\n",
            "1/1 [==============================] - 0s 4ms/step - loss: 5.7962e-04\n",
            "Epoch 175/200\n",
            "1/1 [==============================] - 0s 5ms/step - loss: 5.2945e-04\n",
            "Epoch 176/200\n",
            "1/1 [==============================] - 0s 4ms/step - loss: 4.8117e-04\n",
            "Epoch 177/200\n",
            "1/1 [==============================] - 0s 3ms/step - loss: 4.3273e-04\n",
            "Epoch 178/200\n",
            "1/1 [==============================] - 0s 4ms/step - loss: 3.8650e-04\n",
            "Epoch 179/200\n",
            "1/1 [==============================] - 0s 5ms/step - loss: 3.4544e-04\n",
            "Epoch 180/200\n",
            "1/1 [==============================] - 0s 7ms/step - loss: 3.0932e-04\n",
            "Epoch 181/200\n",
            "1/1 [==============================] - 0s 8ms/step - loss: 2.7553e-04\n",
            "Epoch 182/200\n",
            "1/1 [==============================] - 0s 4ms/step - loss: 2.4270e-04\n",
            "Epoch 183/200\n",
            "1/1 [==============================] - 0s 5ms/step - loss: 2.1223e-04\n",
            "Epoch 184/200\n",
            "1/1 [==============================] - 0s 6ms/step - loss: 1.8582e-04\n",
            "Epoch 185/200\n",
            "1/1 [==============================] - 0s 4ms/step - loss: 1.6286e-04\n",
            "Epoch 186/200\n",
            "1/1 [==============================] - 0s 3ms/step - loss: 1.4182e-04\n",
            "Epoch 187/200\n",
            "1/1 [==============================] - 0s 9ms/step - loss: 1.2185e-04\n",
            "Epoch 188/200\n",
            "1/1 [==============================] - 0s 3ms/step - loss: 1.0384e-04\n",
            "Epoch 189/200\n",
            "1/1 [==============================] - 0s 4ms/step - loss: 8.8679e-05\n",
            "Epoch 190/200\n",
            "1/1 [==============================] - 0s 4ms/step - loss: 7.5835e-05\n",
            "Epoch 191/200\n",
            "1/1 [==============================] - 0s 4ms/step - loss: 6.4196e-05\n",
            "Epoch 192/200\n",
            "1/1 [==============================] - 0s 9ms/step - loss: 5.3338e-05\n",
            "Epoch 193/200\n",
            "1/1 [==============================] - 0s 5ms/step - loss: 4.3929e-05\n",
            "Epoch 194/200\n",
            "1/1 [==============================] - 0s 4ms/step - loss: 3.6329e-05\n",
            "Epoch 195/200\n",
            "1/1 [==============================] - 0s 7ms/step - loss: 3.0037e-05\n",
            "Epoch 196/200\n",
            "1/1 [==============================] - 0s 5ms/step - loss: 2.4364e-05\n",
            "Epoch 197/200\n",
            "1/1 [==============================] - 0s 4ms/step - loss: 1.9220e-05\n",
            "Epoch 198/200\n",
            "1/1 [==============================] - 0s 4ms/step - loss: 1.4990e-05\n",
            "Epoch 199/200\n",
            "1/1 [==============================] - 0s 8ms/step - loss: 1.1788e-05\n",
            "Epoch 200/200\n",
            "1/1 [==============================] - 0s 5ms/step - loss: 9.2426e-06\n"
          ],
          "name": "stdout"
        }
      ]
    },
    {
      "cell_type": "markdown",
      "metadata": {
        "id": "-wRQqOeB5Zh5"
      },
      "source": [
        "# STEP#5: EVALUATING THE MODEL "
      ]
    },
    {
      "cell_type": "code",
      "metadata": {
        "id": "dfUb63035TJL",
        "colab": {
          "base_uri": "https://localhost:8080/"
        },
        "outputId": "1b59faf7-2234-47b0-b2e7-e57231a549d4"
      },
      "source": [
        "epochs_hist.history.keys()"
      ],
      "execution_count": null,
      "outputs": [
        {
          "output_type": "execute_result",
          "data": {
            "text/plain": [
              "dict_keys(['loss'])"
            ]
          },
          "metadata": {
            "tags": []
          },
          "execution_count": 22
        }
      ]
    },
    {
      "cell_type": "code",
      "metadata": {
        "id": "eXiDop_l5erJ",
        "colab": {
          "base_uri": "https://localhost:8080/",
          "height": 313
        },
        "outputId": "8fd7a4ad-ce39-476b-8bd2-8fb946004e6c"
      },
      "source": [
        "plt.plot(epochs_hist.history['loss'])\n",
        "plt.title('Model Loss Progress During Training')\n",
        "plt.xlabel('Epoch')\n",
        "plt.ylabel('Training Loss')\n",
        "plt.legend(['Training Loss'])"
      ],
      "execution_count": null,
      "outputs": [
        {
          "output_type": "execute_result",
          "data": {
            "text/plain": [
              "<matplotlib.legend.Legend at 0x7ff8fffb74d0>"
            ]
          },
          "metadata": {
            "tags": []
          },
          "execution_count": 23
        },
        {
          "output_type": "display_data",
          "data": {
            "image/png": "[encoded data removed]",
            "text/plain": [
              "<Figure size 432x288 with 1 Axes>"
            ]
          },
          "metadata": {
            "tags": [],
            "needs_background": "light"
          }
        }
      ]
    },
    {
      "cell_type": "code",
      "metadata": {
        "id": "yFYpuUJWBn6L",
        "colab": {
          "base_uri": "https://localhost:8080/"
        },
        "outputId": "2cd73106-4590-4d91-e0b3-f8391b9785b9"
      },
      "source": [
        "model.get_weights()"
      ],
      "execution_count": null,
      "outputs": [
        {
          "output_type": "execute_result",
          "data": {
            "text/plain": [
              "[array([[1.7999656]], dtype=float32), array([32.00259], dtype=float32)]"
            ]
          },
          "metadata": {
            "tags": []
          },
          "execution_count": 24
        }
      ]
    },
    {
      "cell_type": "code",
      "metadata": {
        "id": "isfjfT735fjD",
        "colab": {
          "base_uri": "https://localhost:8080/"
        },
        "outputId": "844ea091-1809-4154-8948-bedbd8e89ce5"
      },
      "source": [
        "# Use the trained model to perform predictions\n",
        "\n",
        "Temp_C = 0\n",
        "Temp_F = model.predict([Temp_C])\n",
        "print('Temperature in degF Using Trained ANN =', Temp_F)\n"
      ],
      "execution_count": null,
      "outputs": [
        {
          "output_type": "stream",
          "text": [
            "Temperature in degF Using Trained ANN = [[32.00259]]\n"
          ],
          "name": "stdout"
        }
      ]
    },
    {
      "cell_type": "code",
      "metadata": {
        "id": "mfP_j7LaDjNR",
        "colab": {
          "base_uri": "https://localhost:8080/"
        },
        "outputId": "f63c32a3-8d8b-4c8c-c96e-86106816658d"
      },
      "source": [
        "# Let's confirm this Using the equation: \n",
        "Temp_F = 9/5 * Temp_C + 32\n",
        "print('Temperature in degF Using Equation =', Temp_F)\n"
      ],
      "execution_count": null,
      "outputs": [
        {
          "output_type": "stream",
          "text": [
            "Temperature in degF Using Equation = 32.0\n"
          ],
          "name": "stdout"
        }
      ]
    }
  ]
}